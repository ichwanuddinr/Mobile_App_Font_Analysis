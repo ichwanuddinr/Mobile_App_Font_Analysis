{
 "cells": [
  {
   "attachments": {},
   "cell_type": "markdown",
   "metadata": {},
   "source": [
    "# Memikat Pelanggan dan Meningkatkan Penjualan: Analisa Font pada Aplikasi Penjualan Makanan"
   ]
  },
  {
   "attachments": {},
   "cell_type": "markdown",
   "metadata": {},
   "source": [
    "## Konten <a id='back'></a>\n",
    "\n",
    "* [Pendahuluan](#intro)\n",
    "    * [Tujuan](#tujuan)\n",
    "    * [Tahapan](#tahap)\n",
    "* [Tahap 1: Memuat Data](#data)\n",
    "    * [Memuat Library](#lib)\n",
    "    * [Memuat Data](#data1)\n",
    "* [Tahap 2: Eksplorasi data](#explore)\n",
    "* [Tahap 3: Pra-pemrosesan data](#pra)\n",
    "    * [Mengganti Nama Kolom](#pra1)\n",
    "    * [Memperbaiki Tipe Data](#pra2)\n",
    "    * [Membersihkan Data](#pra3)\n",
    "    * [Menyiapkan Data](#pra4)\n",
    "* [Tahap 4: Menganalisis Data](#analysis)\n",
    "    * [Mempelajari Data](#analysis1)\n",
    "    * [Mempelajari Event Funnel](#analysis2)\n",
    "    * [Mempelajari Hasil Eksperimen](#analysis3)\n",
    "* [Kesimpulan Umum](#end)"
   ]
  },
  {
   "attachments": {},
   "cell_type": "markdown",
   "metadata": {},
   "source": [
    "## Pendahuluan <a id='intro'></a>\n",
    "\n",
    "Proyek analisis data yang dilakukan adalah untuk mengidentifikasi perilaku pengguna aplikasi dari sebuah startup yang menjual produk makanan. Tujuan dari analisis data ini adalah untuk mempelajari corong penjualan yang harus dilalui pengguna dalam mencapai tahap pembelian dan untuk menganalisis hasil A/A/B testing yang dilakukan oleh tim web designer dan product manager. Dalam eksperimen A/A/B testing, pengguna dibagi menjadi tiga kelompok, di mana dua kelompok kontrol diperlihatkan dengan versi font lama dan satu kelompok uji diperlihatkan dengan versi font terbaru. Tujuan dari analisis ini adalah untuk menentukan font manakah yang memberikan hasil terbaik bagi pengguna aplikasi.\n",
    "\n",
    "Pada tahap awal proyek, analis mempelajari corong penjualan untuk mengetahui berapa banyak pengguna yang berhasil mencapai tahap pembelian dan berapa banyak yang terhenti pada tahap-tahap sebelumnya. Analisis ini dilakukan untuk mengidentifikasi faktor-faktor yang mungkin mempengaruhi perilaku pengguna dalam melakukan pembelian.\n",
    "\n",
    "Selanjutnya, dilakukan analisis terhadap hasil A/A/B testing yang dilakukan oleh tim web designer dan product manager. Analisis ini dilakukan dengan membandingkan kedua kelompok kontrol untuk mengidentifikasi faktor-faktor yang mungkin mendistorsi hasil yang diperoleh dan untuk menentukan font manakah yang memberikan hasil terbaik bagi pengguna aplikasi. Selain itu, dengan membandingkan kedua kelompok kontrol, analis juga dapat memperoleh gambaran terkait berapa lama waktu dan data yang diperlukan saat menjalankan proses selanjutnya.\n",
    "\n",
    "Untuk melakukan analisis data ini, digunakan dataset yang sama untuk melakukan analisis reguler dan analisis A/A/B. Hal ini dilakukan karena dalam proyek dunia nyata, eksperimen seperti ini dilakukan secara rutin dan analis perlu mempelajari kualitas aplikasi menggunakan data umum, tanpa memedulikan apakah pengguna berpartisipasi dalam eksperimen atau tidak.\n",
    "\n",
    "Dengan melakukan analisis data yang komprehensif, diharapkan startup dapat meningkatkan kualitas aplikasinya dan meningkatkan penjualan produk makanannya. Analisis data ini diharapkan dapat memberikan wawasan yang berguna bagi perusahaan dalam mengambil keputusan strategis terkait dengan produk dan layanan yang ditawarkan.\n",
    "\n",
    "### Tujuan: <a id='tujuan'></a>\n",
    "\n",
    "- Mempelajari corong penjualan untuk mengetahui berapa banyak pengguna yang berhasil mencapai tahap pembelian dan berapa banyak yang terhenti pada tahap-tahap sebelumnya.\n",
    "\n",
    "- Menganalisis hasil A/A/B testing untuk menentukan font manakah yang memberikan hasil terbaik bagi pengguna aplikasi.\n",
    "\n",
    "- Mengidentifikasi faktor-faktor yang mungkin mempengaruhi perilaku pengguna dalam melakukan pembelian dan membandingkan kedua kelompok kontrol untuk mengidentifikasi faktor-faktor yang mungkin mendistorsi hasil yang diperoleh.\n",
    "\n",
    "- Menentukan waktu dan data yang diperlukan saat menjalankan proses selanjutnya.\n",
    "\n",
    "- Meningkatkan kualitas aplikasi dan meningkatkan penjualan produk makanan yang ditawarkan oleh startup.\n",
    "\n",
    "- Memberikan wawasan yang berguna bagi perusahaan dalam mengambil keputusan strategis terkait dengan produk dan layanan yang ditawarkan.\n",
    "\n",
    "### Tahapan: <a id='tahap'></a>\n",
    " \n",
    "Proyek ini akan terdiri dari 4 tahap:\n",
    "\n",
    "- Memuat data.\n",
    "- Eksplorasi data.\n",
    "- Pra-pemrosesan data.\n",
    "- Menganalisis data."
   ]
  },
  {
   "attachments": {},
   "cell_type": "markdown",
   "metadata": {},
   "source": [
    "## Tahap 1: Memuat Data <a id='data'></a>"
   ]
  },
  {
   "attachments": {},
   "cell_type": "markdown",
   "metadata": {},
   "source": [
    "### Memuat Library <a id='lib'></a>"
   ]
  },
  {
   "cell_type": "code",
   "execution_count": 710,
   "metadata": {},
   "outputs": [],
   "source": [
    "import pandas as pd\n",
    "import numpy as np\n",
    "from scipy import stats as st\n",
    "import math as mth\n",
    "\n",
    "import seaborn as sns\n",
    "import matplotlib.pyplot as plt\n",
    "import plotly.express as px\n",
    "from plotly import graph_objects as go\n",
    "\n",
    "import plotly.io as pio\n",
    "pio.renderers.default = 'svg'\n",
    "\n",
    "import warnings\n",
    "warnings.filterwarnings('ignore')"
   ]
  },
  {
   "attachments": {},
   "cell_type": "markdown",
   "metadata": {},
   "source": [
    "### Memuat Data <a id='data1'></a>"
   ]
  },
  {
   "cell_type": "code",
   "execution_count": 711,
   "metadata": {},
   "outputs": [],
   "source": [
    "# Memuat dataset\n",
    "try:\n",
    "    data = pd.read_csv('logs_exp_us.csv', sep='\\t')\n",
    "except:\n",
    "    data = pd.read_csv('/datasets/logs_exp_us.csv', delimiter='\\t') "
   ]
  },
  {
   "attachments": {},
   "cell_type": "markdown",
   "metadata": {},
   "source": [
    "##  Tahap 2: Eksplorasi Data  <a id='explore'></a>"
   ]
  },
  {
   "attachments": {},
   "cell_type": "markdown",
   "metadata": {},
   "source": [
    "Dataset berisi catatan log tindakan pengguna atau peristiwa yang terjadi dalam aplikasi atau situs web. Setiap baris pada dataset menunjukkan satu entri log dan terdiri dari empat kolom, yaitu:\n",
    "\n",
    "- `EventName` — Nama peristiwa atau tindakan pengguna yang direkam dalam log.\n",
    "\n",
    "- `DeviceIDHash` — ID unik pengguna yang melakukan tindakan tersebut. ID tersebut di-hash agar tidak mengungkapkan informasi pribadi pengguna.\n",
    "\n",
    "- `EventTimestamp` — Waktu peristiwa atau tindakan pengguna yang direkam dalam log, dalam format timestamp.\n",
    "\n",
    "- `ExpId` — Nomor eksperimen atau kelompok kontrol untuk tindakan pengguna tersebut. Terdapat tiga kelompok, yaitu 246 dan 247 untuk kelompok kontrol, dan 248 untuk kelompok uji."
   ]
  },
  {
   "cell_type": "code",
   "execution_count": 712,
   "metadata": {},
   "outputs": [
    {
     "data": {
      "text/html": [
       "<div>\n",
       "<style scoped>\n",
       "    .dataframe tbody tr th:only-of-type {\n",
       "        vertical-align: middle;\n",
       "    }\n",
       "\n",
       "    .dataframe tbody tr th {\n",
       "        vertical-align: top;\n",
       "    }\n",
       "\n",
       "    .dataframe thead th {\n",
       "        text-align: right;\n",
       "    }\n",
       "</style>\n",
       "<table border=\"1\" class=\"dataframe\">\n",
       "  <thead>\n",
       "    <tr style=\"text-align: right;\">\n",
       "      <th></th>\n",
       "      <th>EventName</th>\n",
       "      <th>DeviceIDHash</th>\n",
       "      <th>EventTimestamp</th>\n",
       "      <th>ExpId</th>\n",
       "    </tr>\n",
       "  </thead>\n",
       "  <tbody>\n",
       "    <tr>\n",
       "      <th>0</th>\n",
       "      <td>MainScreenAppear</td>\n",
       "      <td>4575588528974610257</td>\n",
       "      <td>1564029816</td>\n",
       "      <td>246</td>\n",
       "    </tr>\n",
       "    <tr>\n",
       "      <th>1</th>\n",
       "      <td>MainScreenAppear</td>\n",
       "      <td>7416695313311560658</td>\n",
       "      <td>1564053102</td>\n",
       "      <td>246</td>\n",
       "    </tr>\n",
       "    <tr>\n",
       "      <th>2</th>\n",
       "      <td>PaymentScreenSuccessful</td>\n",
       "      <td>3518123091307005509</td>\n",
       "      <td>1564054127</td>\n",
       "      <td>248</td>\n",
       "    </tr>\n",
       "    <tr>\n",
       "      <th>3</th>\n",
       "      <td>CartScreenAppear</td>\n",
       "      <td>3518123091307005509</td>\n",
       "      <td>1564054127</td>\n",
       "      <td>248</td>\n",
       "    </tr>\n",
       "    <tr>\n",
       "      <th>4</th>\n",
       "      <td>PaymentScreenSuccessful</td>\n",
       "      <td>6217807653094995999</td>\n",
       "      <td>1564055322</td>\n",
       "      <td>248</td>\n",
       "    </tr>\n",
       "  </tbody>\n",
       "</table>\n",
       "</div>"
      ],
      "text/plain": [
       "                 EventName         DeviceIDHash  EventTimestamp  ExpId\n",
       "0         MainScreenAppear  4575588528974610257      1564029816    246\n",
       "1         MainScreenAppear  7416695313311560658      1564053102    246\n",
       "2  PaymentScreenSuccessful  3518123091307005509      1564054127    248\n",
       "3         CartScreenAppear  3518123091307005509      1564054127    248\n",
       "4  PaymentScreenSuccessful  6217807653094995999      1564055322    248"
      ]
     },
     "execution_count": 712,
     "metadata": {},
     "output_type": "execute_result"
    }
   ],
   "source": [
    "# Memeriksa 5 data teratas\n",
    "data.head()"
   ]
  },
  {
   "cell_type": "code",
   "execution_count": 713,
   "metadata": {},
   "outputs": [
    {
     "data": {
      "text/plain": [
       "(244126, 4)"
      ]
     },
     "execution_count": 713,
     "metadata": {},
     "output_type": "execute_result"
    }
   ],
   "source": [
    "# Melihat ukuran datasetnya\n",
    "data.shape"
   ]
  },
  {
   "cell_type": "code",
   "execution_count": 714,
   "metadata": {},
   "outputs": [
    {
     "name": "stdout",
     "output_type": "stream",
     "text": [
      "<class 'pandas.core.frame.DataFrame'>\n",
      "RangeIndex: 244126 entries, 0 to 244125\n",
      "Data columns (total 4 columns):\n",
      " #   Column          Non-Null Count   Dtype \n",
      "---  ------          --------------   ----- \n",
      " 0   EventName       244126 non-null  object\n",
      " 1   DeviceIDHash    244126 non-null  int64 \n",
      " 2   EventTimestamp  244126 non-null  int64 \n",
      " 3   ExpId           244126 non-null  int64 \n",
      "dtypes: int64(3), object(1)\n",
      "memory usage: 7.5+ MB\n"
     ]
    }
   ],
   "source": [
    "# Melihat informasi umumnya\n",
    "data.info()"
   ]
  },
  {
   "cell_type": "code",
   "execution_count": 715,
   "metadata": {},
   "outputs": [
    {
     "data": {
      "text/plain": [
       "EventName         0\n",
       "DeviceIDHash      0\n",
       "EventTimestamp    0\n",
       "ExpId             0\n",
       "dtype: int64"
      ]
     },
     "execution_count": 715,
     "metadata": {},
     "output_type": "execute_result"
    }
   ],
   "source": [
    "# Menghitung nilai yang hilang\n",
    "data.isna().sum()"
   ]
  },
  {
   "cell_type": "code",
   "execution_count": 716,
   "metadata": {},
   "outputs": [
    {
     "data": {
      "text/plain": [
       "413"
      ]
     },
     "execution_count": 716,
     "metadata": {},
     "output_type": "execute_result"
    }
   ],
   "source": [
    "# Memeriksa apakah ada data yang terduplikasi\n",
    "data.duplicated().sum()"
   ]
  },
  {
   "attachments": {},
   "cell_type": "markdown",
   "metadata": {},
   "source": [
    "**Findings:**\n",
    "\n",
    "Dataset tersebut berisikan informasi mengenai penggunaan aplikasi dari sebuah startup yang menjual produk makanan. Setiap entri log dalam dataset adalah catatan tindakan pengguna atau suatu peristiwa, seperti nama peristiwa, ID unik pengguna, waktu peristiwa, dan nomor eksperimen.\n",
    "\n",
    "Berdasarkan eksplorasi data yang telah dilakukan, dapat disimpulkan bahwa dataset memiliki ukuran sebesar **244126** baris dan **4** kolom. Namun, tipe data dari kolom `EventTimestamp` masih salah, sehingga perlu dilakukan konversi ke dalam format waktu yang tepat. Selain itu, terdapat **413** data yang terduplikat, yang perlu dihapus untuk memastikan analisis data yang akurat. Oleh karena itu, sebelum melakukan analisis lebih lanjut, diperlukan pra-pemrosesan data untuk membersihkan dan memformat data dengan benar."
   ]
  },
  {
   "attachments": {},
   "cell_type": "markdown",
   "metadata": {},
   "source": [
    "## Tahap 3: Pra-pemrosesan Data <a id='pra'></a>"
   ]
  },
  {
   "attachments": {},
   "cell_type": "markdown",
   "metadata": {},
   "source": [
    "### Mengganti Nama Kolom <a id='pra1'></a>\n"
   ]
  },
  {
   "attachments": {},
   "cell_type": "markdown",
   "metadata": {},
   "source": [
    "Sebelum melakukan pra-pemrosesan data, akan lebih baik apabila nama dari tiap kolom diganti menjadi *lowercase* dan menggunakan *Snake Case* untuk memudahkan proses penulisan kode."
   ]
  },
  {
   "cell_type": "code",
   "execution_count": 717,
   "metadata": {},
   "outputs": [],
   "source": [
    "# Mengganti nama kolom\n",
    "data.columns = ['event', 'id', 'timestamp', 'exp_id']"
   ]
  },
  {
   "cell_type": "code",
   "execution_count": 718,
   "metadata": {},
   "outputs": [
    {
     "data": {
      "text/html": [
       "<div>\n",
       "<style scoped>\n",
       "    .dataframe tbody tr th:only-of-type {\n",
       "        vertical-align: middle;\n",
       "    }\n",
       "\n",
       "    .dataframe tbody tr th {\n",
       "        vertical-align: top;\n",
       "    }\n",
       "\n",
       "    .dataframe thead th {\n",
       "        text-align: right;\n",
       "    }\n",
       "</style>\n",
       "<table border=\"1\" class=\"dataframe\">\n",
       "  <thead>\n",
       "    <tr style=\"text-align: right;\">\n",
       "      <th></th>\n",
       "      <th>event</th>\n",
       "      <th>id</th>\n",
       "      <th>timestamp</th>\n",
       "      <th>exp_id</th>\n",
       "    </tr>\n",
       "  </thead>\n",
       "  <tbody>\n",
       "    <tr>\n",
       "      <th>0</th>\n",
       "      <td>MainScreenAppear</td>\n",
       "      <td>4575588528974610257</td>\n",
       "      <td>1564029816</td>\n",
       "      <td>246</td>\n",
       "    </tr>\n",
       "    <tr>\n",
       "      <th>1</th>\n",
       "      <td>MainScreenAppear</td>\n",
       "      <td>7416695313311560658</td>\n",
       "      <td>1564053102</td>\n",
       "      <td>246</td>\n",
       "    </tr>\n",
       "    <tr>\n",
       "      <th>2</th>\n",
       "      <td>PaymentScreenSuccessful</td>\n",
       "      <td>3518123091307005509</td>\n",
       "      <td>1564054127</td>\n",
       "      <td>248</td>\n",
       "    </tr>\n",
       "    <tr>\n",
       "      <th>3</th>\n",
       "      <td>CartScreenAppear</td>\n",
       "      <td>3518123091307005509</td>\n",
       "      <td>1564054127</td>\n",
       "      <td>248</td>\n",
       "    </tr>\n",
       "    <tr>\n",
       "      <th>4</th>\n",
       "      <td>PaymentScreenSuccessful</td>\n",
       "      <td>6217807653094995999</td>\n",
       "      <td>1564055322</td>\n",
       "      <td>248</td>\n",
       "    </tr>\n",
       "  </tbody>\n",
       "</table>\n",
       "</div>"
      ],
      "text/plain": [
       "                     event                   id   timestamp  exp_id\n",
       "0         MainScreenAppear  4575588528974610257  1564029816     246\n",
       "1         MainScreenAppear  7416695313311560658  1564053102     246\n",
       "2  PaymentScreenSuccessful  3518123091307005509  1564054127     248\n",
       "3         CartScreenAppear  3518123091307005509  1564054127     248\n",
       "4  PaymentScreenSuccessful  6217807653094995999  1564055322     248"
      ]
     },
     "execution_count": 718,
     "metadata": {},
     "output_type": "execute_result"
    }
   ],
   "source": [
    "# Melihat hasilnya\n",
    "data.head()"
   ]
  },
  {
   "attachments": {},
   "cell_type": "markdown",
   "metadata": {},
   "source": [
    "Nama kolom telah berhasil diganti menjadi `event`, `id`, `timestamp`, `exp_id`."
   ]
  },
  {
   "attachments": {},
   "cell_type": "markdown",
   "metadata": {},
   "source": [
    "### Memperbaiki Tipe Data <a id='pra2'></a>"
   ]
  },
  {
   "attachments": {},
   "cell_type": "markdown",
   "metadata": {},
   "source": [
    "Yang perlu diperbaiki selanjutnya adalah tipe data dari kolom `timestamp` yang mana seharusnya adalah `datetime`.\n",
    "\n",
    "Memperbaiki kolom `timestamp`:"
   ]
  },
  {
   "cell_type": "code",
   "execution_count": 719,
   "metadata": {},
   "outputs": [
    {
     "data": {
      "text/html": [
       "<div>\n",
       "<style scoped>\n",
       "    .dataframe tbody tr th:only-of-type {\n",
       "        vertical-align: middle;\n",
       "    }\n",
       "\n",
       "    .dataframe tbody tr th {\n",
       "        vertical-align: top;\n",
       "    }\n",
       "\n",
       "    .dataframe thead th {\n",
       "        text-align: right;\n",
       "    }\n",
       "</style>\n",
       "<table border=\"1\" class=\"dataframe\">\n",
       "  <thead>\n",
       "    <tr style=\"text-align: right;\">\n",
       "      <th></th>\n",
       "      <th>event</th>\n",
       "      <th>id</th>\n",
       "      <th>timestamp</th>\n",
       "      <th>exp_id</th>\n",
       "    </tr>\n",
       "  </thead>\n",
       "  <tbody>\n",
       "    <tr>\n",
       "      <th>0</th>\n",
       "      <td>MainScreenAppear</td>\n",
       "      <td>4575588528974610257</td>\n",
       "      <td>2019-07-25 04:43:36</td>\n",
       "      <td>246</td>\n",
       "    </tr>\n",
       "    <tr>\n",
       "      <th>1</th>\n",
       "      <td>MainScreenAppear</td>\n",
       "      <td>7416695313311560658</td>\n",
       "      <td>2019-07-25 11:11:42</td>\n",
       "      <td>246</td>\n",
       "    </tr>\n",
       "    <tr>\n",
       "      <th>2</th>\n",
       "      <td>PaymentScreenSuccessful</td>\n",
       "      <td>3518123091307005509</td>\n",
       "      <td>2019-07-25 11:28:47</td>\n",
       "      <td>248</td>\n",
       "    </tr>\n",
       "    <tr>\n",
       "      <th>3</th>\n",
       "      <td>CartScreenAppear</td>\n",
       "      <td>3518123091307005509</td>\n",
       "      <td>2019-07-25 11:28:47</td>\n",
       "      <td>248</td>\n",
       "    </tr>\n",
       "    <tr>\n",
       "      <th>4</th>\n",
       "      <td>PaymentScreenSuccessful</td>\n",
       "      <td>6217807653094995999</td>\n",
       "      <td>2019-07-25 11:48:42</td>\n",
       "      <td>248</td>\n",
       "    </tr>\n",
       "  </tbody>\n",
       "</table>\n",
       "</div>"
      ],
      "text/plain": [
       "                     event                   id           timestamp  exp_id\n",
       "0         MainScreenAppear  4575588528974610257 2019-07-25 04:43:36     246\n",
       "1         MainScreenAppear  7416695313311560658 2019-07-25 11:11:42     246\n",
       "2  PaymentScreenSuccessful  3518123091307005509 2019-07-25 11:28:47     248\n",
       "3         CartScreenAppear  3518123091307005509 2019-07-25 11:28:47     248\n",
       "4  PaymentScreenSuccessful  6217807653094995999 2019-07-25 11:48:42     248"
      ]
     },
     "execution_count": 719,
     "metadata": {},
     "output_type": "execute_result"
    }
   ],
   "source": [
    "# Mengubah tipe data `timestamp`\n",
    "data['timestamp'] = pd.to_datetime(data['timestamp'], unit='s')\n",
    "\n",
    "# Melihat hasilnya\n",
    "data.head()"
   ]
  },
  {
   "cell_type": "code",
   "execution_count": 720,
   "metadata": {},
   "outputs": [
    {
     "name": "stdout",
     "output_type": "stream",
     "text": [
      "<class 'pandas.core.frame.DataFrame'>\n",
      "RangeIndex: 244126 entries, 0 to 244125\n",
      "Data columns (total 4 columns):\n",
      " #   Column     Non-Null Count   Dtype         \n",
      "---  ------     --------------   -----         \n",
      " 0   event      244126 non-null  object        \n",
      " 1   id         244126 non-null  int64         \n",
      " 2   timestamp  244126 non-null  datetime64[ns]\n",
      " 3   exp_id     244126 non-null  int64         \n",
      "dtypes: datetime64[ns](1), int64(2), object(1)\n",
      "memory usage: 7.5+ MB\n"
     ]
    }
   ],
   "source": [
    "# Melihat hasilnya\n",
    "data.info()"
   ]
  },
  {
   "attachments": {},
   "cell_type": "markdown",
   "metadata": {},
   "source": [
    "Tipe data pada kolom `timestamp` telah diganti menjadi menjadi tipe data yang sesuai, yaitu `datetime64[ns]`."
   ]
  },
  {
   "attachments": {},
   "cell_type": "markdown",
   "metadata": {},
   "source": [
    "### Membersihkan Data <a id='pra3'></a>"
   ]
  },
  {
   "attachments": {},
   "cell_type": "markdown",
   "metadata": {},
   "source": [
    "Pada tahap eksplorasi data, telah ditemukan adanya data yang terduplikat sebanyak **413** data. Data ini perlu dihilangkan agar proses analisa data mendaptkan hasil yang lebih akurat."
   ]
  },
  {
   "cell_type": "code",
   "execution_count": 721,
   "metadata": {},
   "outputs": [],
   "source": [
    "# Menghapus duplikat\n",
    "data = data.drop_duplicates().reset_index(drop=True)"
   ]
  },
  {
   "cell_type": "code",
   "execution_count": 722,
   "metadata": {},
   "outputs": [
    {
     "data": {
      "text/plain": [
       "0"
      ]
     },
     "execution_count": 722,
     "metadata": {},
     "output_type": "execute_result"
    }
   ],
   "source": [
    "# Memastikan apakah masih ada data yang terduplikasi\n",
    "data.duplicated().sum()"
   ]
  },
  {
   "attachments": {},
   "cell_type": "markdown",
   "metadata": {},
   "source": [
    "Sekarang datanya telah dibersihkan, dan bisa maju ke tahap selanjutnya yaitu menyiapkan data."
   ]
  },
  {
   "attachments": {},
   "cell_type": "markdown",
   "metadata": {},
   "source": [
    "### Menyiapkan Data <a id='pra4'></a>"
   ]
  },
  {
   "attachments": {},
   "cell_type": "markdown",
   "metadata": {},
   "source": [
    "Hal yang harus disiapkan sebelum memulai proses analisa adalah membuat kolom baru yang hanya berisikan informasi tanggal tanpa adanya informasi waktu.\n",
    "\n",
    "Mari buat kolomnya dan simpan dengan nama `date`:"
   ]
  },
  {
   "cell_type": "code",
   "execution_count": 723,
   "metadata": {},
   "outputs": [],
   "source": [
    "# Memubat kolom `date`\n",
    "data['date'] = data['timestamp'].dt.date\n",
    "\n",
    "# Mengubah tipe datanya menjadi `datetime`\n",
    "data['date'] = pd.to_datetime(data['date'])"
   ]
  },
  {
   "cell_type": "code",
   "execution_count": 724,
   "metadata": {},
   "outputs": [
    {
     "data": {
      "text/html": [
       "<div>\n",
       "<style scoped>\n",
       "    .dataframe tbody tr th:only-of-type {\n",
       "        vertical-align: middle;\n",
       "    }\n",
       "\n",
       "    .dataframe tbody tr th {\n",
       "        vertical-align: top;\n",
       "    }\n",
       "\n",
       "    .dataframe thead th {\n",
       "        text-align: right;\n",
       "    }\n",
       "</style>\n",
       "<table border=\"1\" class=\"dataframe\">\n",
       "  <thead>\n",
       "    <tr style=\"text-align: right;\">\n",
       "      <th></th>\n",
       "      <th>event</th>\n",
       "      <th>id</th>\n",
       "      <th>timestamp</th>\n",
       "      <th>exp_id</th>\n",
       "      <th>date</th>\n",
       "    </tr>\n",
       "  </thead>\n",
       "  <tbody>\n",
       "    <tr>\n",
       "      <th>0</th>\n",
       "      <td>MainScreenAppear</td>\n",
       "      <td>4575588528974610257</td>\n",
       "      <td>2019-07-25 04:43:36</td>\n",
       "      <td>246</td>\n",
       "      <td>2019-07-25</td>\n",
       "    </tr>\n",
       "    <tr>\n",
       "      <th>1</th>\n",
       "      <td>MainScreenAppear</td>\n",
       "      <td>7416695313311560658</td>\n",
       "      <td>2019-07-25 11:11:42</td>\n",
       "      <td>246</td>\n",
       "      <td>2019-07-25</td>\n",
       "    </tr>\n",
       "    <tr>\n",
       "      <th>2</th>\n",
       "      <td>PaymentScreenSuccessful</td>\n",
       "      <td>3518123091307005509</td>\n",
       "      <td>2019-07-25 11:28:47</td>\n",
       "      <td>248</td>\n",
       "      <td>2019-07-25</td>\n",
       "    </tr>\n",
       "    <tr>\n",
       "      <th>3</th>\n",
       "      <td>CartScreenAppear</td>\n",
       "      <td>3518123091307005509</td>\n",
       "      <td>2019-07-25 11:28:47</td>\n",
       "      <td>248</td>\n",
       "      <td>2019-07-25</td>\n",
       "    </tr>\n",
       "    <tr>\n",
       "      <th>4</th>\n",
       "      <td>PaymentScreenSuccessful</td>\n",
       "      <td>6217807653094995999</td>\n",
       "      <td>2019-07-25 11:48:42</td>\n",
       "      <td>248</td>\n",
       "      <td>2019-07-25</td>\n",
       "    </tr>\n",
       "  </tbody>\n",
       "</table>\n",
       "</div>"
      ],
      "text/plain": [
       "                     event                   id           timestamp  exp_id  \\\n",
       "0         MainScreenAppear  4575588528974610257 2019-07-25 04:43:36     246   \n",
       "1         MainScreenAppear  7416695313311560658 2019-07-25 11:11:42     246   \n",
       "2  PaymentScreenSuccessful  3518123091307005509 2019-07-25 11:28:47     248   \n",
       "3         CartScreenAppear  3518123091307005509 2019-07-25 11:28:47     248   \n",
       "4  PaymentScreenSuccessful  6217807653094995999 2019-07-25 11:48:42     248   \n",
       "\n",
       "        date  \n",
       "0 2019-07-25  \n",
       "1 2019-07-25  \n",
       "2 2019-07-25  \n",
       "3 2019-07-25  \n",
       "4 2019-07-25  "
      ]
     },
     "execution_count": 724,
     "metadata": {},
     "output_type": "execute_result"
    }
   ],
   "source": [
    "# Memeriksa hasilnya\n",
    "data.head()"
   ]
  },
  {
   "attachments": {},
   "cell_type": "markdown",
   "metadata": {},
   "source": [
    "Dengan ini datanya telah siap untuk dianalisa."
   ]
  },
  {
   "attachments": {},
   "cell_type": "markdown",
   "metadata": {},
   "source": [
    "## Tahap 4: Menganalisis Data <a id='analysis'></a>"
   ]
  },
  {
   "attachments": {},
   "cell_type": "markdown",
   "metadata": {},
   "source": [
    "### Mempelajari Data <a id='analysis1'></a>"
   ]
  },
  {
   "attachments": {},
   "cell_type": "markdown",
   "metadata": {},
   "source": [
    "Proses analisa pertama adalah mempelajari datanya mulai dari jumlah peristiwa, jumlah pengguna, priode waktu yang dicakup oleh data, dan distribusi dayanya."
   ]
  },
  {
   "attachments": {},
   "cell_type": "markdown",
   "metadata": {},
   "source": [
    "**Jumlah peristiwa yang tercatat dalam log**"
   ]
  },
  {
   "attachments": {},
   "cell_type": "markdown",
   "metadata": {},
   "source": [
    "Menghitung jumlah peristiwa yang tercatat dalam dataset dengan melihat ukuran datasetnya."
   ]
  },
  {
   "cell_type": "code",
   "execution_count": 725,
   "metadata": {},
   "outputs": [
    {
     "name": "stdout",
     "output_type": "stream",
     "text": [
      "Jumlah peristiwa yang tercatat dalam log adalah sebanyak 243713 peristiwa.\n"
     ]
    }
   ],
   "source": [
    "print(f'Jumlah peristiwa yang tercatat dalam log adalah sebanyak {data.shape[0]} peristiwa.')"
   ]
  },
  {
   "attachments": {},
   "cell_type": "markdown",
   "metadata": {},
   "source": [
    "**Jumlah pengguna yang tercatat dalam log**"
   ]
  },
  {
   "attachments": {},
   "cell_type": "markdown",
   "metadata": {},
   "source": [
    "Dengan menghitung jumlah nilai unik dari kolom `id`, maka akan diketahui jumlah pengguna yang tercatat dalam dataset."
   ]
  },
  {
   "cell_type": "code",
   "execution_count": 726,
   "metadata": {},
   "outputs": [
    {
     "name": "stdout",
     "output_type": "stream",
     "text": [
      "Jumlah pengguna yang tercatat dalam log adalah sebanyak 7551 pengguna.\n"
     ]
    }
   ],
   "source": [
    "print(f'Jumlah pengguna yang tercatat dalam log adalah sebanyak {data.id.nunique()} pengguna.')"
   ]
  },
  {
   "attachments": {},
   "cell_type": "markdown",
   "metadata": {},
   "source": [
    "**Jumlah rata-rata peristiwa per pengguna**"
   ]
  },
  {
   "attachments": {},
   "cell_type": "markdown",
   "metadata": {},
   "source": [
    "Melakukan penghitungan jumlah rata-rata peristiwa per-pengguna dengan cara membagi jumlah peristiwa dengan jumlah pengguna."
   ]
  },
  {
   "cell_type": "code",
   "execution_count": 727,
   "metadata": {},
   "outputs": [
    {
     "name": "stdout",
     "output_type": "stream",
     "text": [
      "Jumlah rata-rata peristiwa per-pengguna adalah sebanyak 32.0 peristiwa per-pengguna.\n"
     ]
    }
   ],
   "source": [
    "print(f'Jumlah rata-rata peristiwa per-pengguna adalah sebanyak {round(data.shape[0] / data.id.nunique(),0)} peristiwa per-pengguna.')"
   ]
  },
  {
   "attachments": {},
   "cell_type": "markdown",
   "metadata": {},
   "source": [
    "**Mempelajari priode waktu yang dicakup oleh data**"
   ]
  },
  {
   "attachments": {},
   "cell_type": "markdown",
   "metadata": {},
   "source": [
    "Mencari tahu priode waktu minimum yang dicakup oleh dataset:"
   ]
  },
  {
   "cell_type": "code",
   "execution_count": 728,
   "metadata": {},
   "outputs": [
    {
     "name": "stdout",
     "output_type": "stream",
     "text": [
      "Priode waktu minimumnya adalah: 2019-07-25 04:43:36\n"
     ]
    }
   ],
   "source": [
    "print(f'Priode waktu minimumnya adalah: {data.timestamp.min()}')"
   ]
  },
  {
   "attachments": {},
   "cell_type": "markdown",
   "metadata": {},
   "source": [
    "Mencari tahu priode waktu maksimum yang dicakup oleh dataset:"
   ]
  },
  {
   "cell_type": "code",
   "execution_count": 729,
   "metadata": {},
   "outputs": [
    {
     "name": "stdout",
     "output_type": "stream",
     "text": [
      "Priode waktu maksimumnya adalah: 2019-08-07 21:15:17\n"
     ]
    }
   ],
   "source": [
    "print(f'Priode waktu maksimumnya adalah: {data.timestamp.max()}')"
   ]
  },
  {
   "attachments": {},
   "cell_type": "markdown",
   "metadata": {},
   "source": [
    "Melihat distribusi data berdasarkan tanggal dan waktu:"
   ]
  },
  {
   "cell_type": "code",
   "execution_count": 730,
   "metadata": {},
   "outputs": [
    {
     "data": {
      "image/png": "[encoded data removed]",
      "text/plain": [
       "<Figure size 2000x1000 with 1 Axes>"
      ]
     },
     "metadata": {},
     "output_type": "display_data"
    }
   ],
   "source": [
    "# Melihat distribusi data\n",
    "\n",
    "sns.set_theme(style='ticks', palette='cubehelix')\n",
    "plt.figure(figsize=(20,10))\n",
    "data.timestamp.hist(bins=100)\n",
    "plt.title('Distribusi Data Berdasarkan Tanggal dan Waktu')\n",
    "plt.xlabel('Tanggal dan Waktu')\n",
    "plt.ylabel('Jumlah Data')\n",
    "plt.show()"
   ]
  },
  {
   "attachments": {},
   "cell_type": "markdown",
   "metadata": {},
   "source": [
    "Data di sebelum bulan Agustus 2019 terlihat belum lengkap, sebaliknya data yang ditunjukan setelah bulan agustus lebih stabil. Peristiwa terdahulu tersebut mungkin muncul di beberapa pengguna dikarenakan alasan teknis. Karena hal ini bisa mengacaukan distribusi data secara keseluruhan, maka data lama yang mana dalam hal ini adalah data sebelum bulan Agustus 2019 akan diabaikan."
   ]
  },
  {
   "attachments": {},
   "cell_type": "markdown",
   "metadata": {},
   "source": [
    "Melakukan pemfilteran data:"
   ]
  },
  {
   "cell_type": "code",
   "execution_count": 731,
   "metadata": {},
   "outputs": [
    {
     "data": {
      "text/html": [
       "<div>\n",
       "<style scoped>\n",
       "    .dataframe tbody tr th:only-of-type {\n",
       "        vertical-align: middle;\n",
       "    }\n",
       "\n",
       "    .dataframe tbody tr th {\n",
       "        vertical-align: top;\n",
       "    }\n",
       "\n",
       "    .dataframe thead th {\n",
       "        text-align: right;\n",
       "    }\n",
       "</style>\n",
       "<table border=\"1\" class=\"dataframe\">\n",
       "  <thead>\n",
       "    <tr style=\"text-align: right;\">\n",
       "      <th></th>\n",
       "      <th>event</th>\n",
       "      <th>id</th>\n",
       "      <th>timestamp</th>\n",
       "      <th>exp_id</th>\n",
       "      <th>date</th>\n",
       "    </tr>\n",
       "  </thead>\n",
       "  <tbody>\n",
       "    <tr>\n",
       "      <th>2826</th>\n",
       "      <td>Tutorial</td>\n",
       "      <td>3737462046622621720</td>\n",
       "      <td>2019-08-01 00:07:28</td>\n",
       "      <td>246</td>\n",
       "      <td>2019-08-01</td>\n",
       "    </tr>\n",
       "    <tr>\n",
       "      <th>2827</th>\n",
       "      <td>MainScreenAppear</td>\n",
       "      <td>3737462046622621720</td>\n",
       "      <td>2019-08-01 00:08:00</td>\n",
       "      <td>246</td>\n",
       "      <td>2019-08-01</td>\n",
       "    </tr>\n",
       "    <tr>\n",
       "      <th>2828</th>\n",
       "      <td>MainScreenAppear</td>\n",
       "      <td>3737462046622621720</td>\n",
       "      <td>2019-08-01 00:08:55</td>\n",
       "      <td>246</td>\n",
       "      <td>2019-08-01</td>\n",
       "    </tr>\n",
       "    <tr>\n",
       "      <th>2829</th>\n",
       "      <td>OffersScreenAppear</td>\n",
       "      <td>3737462046622621720</td>\n",
       "      <td>2019-08-01 00:08:58</td>\n",
       "      <td>246</td>\n",
       "      <td>2019-08-01</td>\n",
       "    </tr>\n",
       "    <tr>\n",
       "      <th>2830</th>\n",
       "      <td>MainScreenAppear</td>\n",
       "      <td>1433840883824088890</td>\n",
       "      <td>2019-08-01 00:08:59</td>\n",
       "      <td>247</td>\n",
       "      <td>2019-08-01</td>\n",
       "    </tr>\n",
       "  </tbody>\n",
       "</table>\n",
       "</div>"
      ],
      "text/plain": [
       "                   event                   id           timestamp  exp_id  \\\n",
       "2826            Tutorial  3737462046622621720 2019-08-01 00:07:28     246   \n",
       "2827    MainScreenAppear  3737462046622621720 2019-08-01 00:08:00     246   \n",
       "2828    MainScreenAppear  3737462046622621720 2019-08-01 00:08:55     246   \n",
       "2829  OffersScreenAppear  3737462046622621720 2019-08-01 00:08:58     246   \n",
       "2830    MainScreenAppear  1433840883824088890 2019-08-01 00:08:59     247   \n",
       "\n",
       "           date  \n",
       "2826 2019-08-01  \n",
       "2827 2019-08-01  \n",
       "2828 2019-08-01  \n",
       "2829 2019-08-01  \n",
       "2830 2019-08-01  "
      ]
     },
     "execution_count": 731,
     "metadata": {},
     "output_type": "execute_result"
    }
   ],
   "source": [
    "# Memfilter data\n",
    "data_filtered = data.query('date >= \"2019-08-01\"')\n",
    "data_filtered.head()"
   ]
  },
  {
   "attachments": {},
   "cell_type": "markdown",
   "metadata": {},
   "source": [
    "**Apakah datanya berkurang drastis?**"
   ]
  },
  {
   "attachments": {},
   "cell_type": "markdown",
   "metadata": {},
   "source": [
    "Setelah datanya difilter, mari cari tahu apakah datanya berkurang drastis:"
   ]
  },
  {
   "cell_type": "code",
   "execution_count": 732,
   "metadata": {},
   "outputs": [
    {
     "data": {
      "text/plain": [
       "((243713, 5), (240887, 5))"
      ]
     },
     "execution_count": 732,
     "metadata": {},
     "output_type": "execute_result"
    }
   ],
   "source": [
    "# Membandingkan ukuran kedua dataset\n",
    "data.shape, data_filtered.shape"
   ]
  },
  {
   "cell_type": "code",
   "execution_count": 733,
   "metadata": {},
   "outputs": [
    {
     "data": {
      "text/plain": [
       "1.159560630741897"
      ]
     },
     "execution_count": 733,
     "metadata": {},
     "output_type": "execute_result"
    }
   ],
   "source": [
    "# Menghitung presentase data yang hilang\n",
    "(data.shape[0] - data_filtered.shape[0]) / data.shape[0] * 100"
   ]
  },
  {
   "attachments": {},
   "cell_type": "markdown",
   "metadata": {},
   "source": [
    "Data yang hilang hanyalah **1.16%**, ini merupakan jumlah yang sangat kecil sehingga tidak masalah untuk mengabaikan data lama sebelum bulan Agustus 2019.\n",
    "\n",
    "Distribusinya juga terliat jauh lebih baik dari sebelumnya:"
   ]
  },
  {
   "cell_type": "code",
   "execution_count": 734,
   "metadata": {},
   "outputs": [
    {
     "data": {
      "image/png": "[encoded data removed]",
      "text/plain": [
       "<Figure size 2000x1000 with 1 Axes>"
      ]
     },
     "metadata": {},
     "output_type": "display_data"
    }
   ],
   "source": [
    "# Melihat distribusi dataset baru\n",
    "\n",
    "plt.figure(figsize=(20,10))\n",
    "data_filtered.timestamp.hist(bins=100)\n",
    "plt.title('Distribusi Data Berdasarkan Tanggal dan Waktu')\n",
    "plt.xlabel('Tanggal dan Waktu')\n",
    "plt.ylabel('Jumlah Data')\n",
    "plt.show()"
   ]
  },
  {
   "attachments": {},
   "cell_type": "markdown",
   "metadata": {},
   "source": [
    "**Memastikan apakah kita memiliki pengguna dari tiga kelompok eksperimen**"
   ]
  },
  {
   "attachments": {},
   "cell_type": "markdown",
   "metadata": {},
   "source": [
    "Untuk mencari tahu hal tersebut, perlu dilakukan penghitungan nilai dari masing-masing kelompok uji."
   ]
  },
  {
   "cell_type": "code",
   "execution_count": 735,
   "metadata": {},
   "outputs": [
    {
     "data": {
      "text/plain": [
       "248    84563\n",
       "246    79302\n",
       "247    77022\n",
       "Name: exp_id, dtype: int64"
      ]
     },
     "execution_count": 735,
     "metadata": {},
     "output_type": "execute_result"
    }
   ],
   "source": [
    "# Menghitung nlainya\n",
    "data_filtered.exp_id.value_counts()"
   ]
  },
  {
   "attachments": {},
   "cell_type": "markdown",
   "metadata": {},
   "source": [
    "- Kelompok uji `248` berjumlah **84563**.\n",
    "- Kelompok uji `247` berjumlah **77022**.\n",
    "- Kelompok uji `246` berjumlah **79302**."
   ]
  },
  {
   "attachments": {},
   "cell_type": "markdown",
   "metadata": {},
   "source": [
    "**Findings:**\n",
    "\n",
    "- Jumlah peristiwa yang tercatat dalam log adalah sebanyak **243713** peristiwa.\n",
    "- Jumlah pengguna yang tercatat dalam log adalah sebanyak **7551** pengguna.\n",
    "- Jumlah rata-rata peristiwa per-pengguna adalah sebanyak **32** peristiwa per-pengguna.\n",
    "- Priode waktu minimumnya adalah: **2019-07-25 04:43:36**\n",
    "- Priode waktu maksimumnya adalah: **2019-08-07 21:15:17**\n",
    "- Data yang akan digunakan adalah data setelah bulan Agustus.\n",
    "- Dataset yang telah difilter memiliki ketiga kelompok uji dengan komposisi sebagai berikut:\n",
    "\n",
    "    - Kelompok uji `248` berjumlah **84563**.\n",
    "    - Kelompok uji `247` berjumlah **77022**.\n",
    "    - Kelompok uji `246` berjumlah **79302**."
   ]
  },
  {
   "attachments": {},
   "cell_type": "markdown",
   "metadata": {},
   "source": [
    "### Mempelajari Event Funnel <a id='analysis2'></a>"
   ]
  },
  {
   "attachments": {},
   "cell_type": "markdown",
   "metadata": {},
   "source": [
    "Analisa selanjutnya adalah mempelajari **Event Funnel**, dengan mempelajari setiap peristiwa dan jumlah penggunanya terlebih dahulu. Dengan begitu visualisai datanya bisa dibuat dengan lebih akurat."
   ]
  },
  {
   "attachments": {},
   "cell_type": "markdown",
   "metadata": {},
   "source": [
    "**Peristiwa yang ada dalam log**"
   ]
  },
  {
   "attachments": {},
   "cell_type": "markdown",
   "metadata": {},
   "source": [
    "Mempelajari peristiwa apa sajakah yang tercatat dalam dataset dan berapa kali peristiwa tersebut muncul:"
   ]
  },
  {
   "cell_type": "code",
   "execution_count": 736,
   "metadata": {},
   "outputs": [
    {
     "data": {
      "text/html": [
       "<div>\n",
       "<style scoped>\n",
       "    .dataframe tbody tr th:only-of-type {\n",
       "        vertical-align: middle;\n",
       "    }\n",
       "\n",
       "    .dataframe tbody tr th {\n",
       "        vertical-align: top;\n",
       "    }\n",
       "\n",
       "    .dataframe thead th {\n",
       "        text-align: right;\n",
       "    }\n",
       "</style>\n",
       "<table border=\"1\" class=\"dataframe\">\n",
       "  <thead>\n",
       "    <tr style=\"text-align: right;\">\n",
       "      <th></th>\n",
       "      <th>id</th>\n",
       "    </tr>\n",
       "    <tr>\n",
       "      <th>event</th>\n",
       "      <th></th>\n",
       "    </tr>\n",
       "  </thead>\n",
       "  <tbody>\n",
       "    <tr>\n",
       "      <th>MainScreenAppear</th>\n",
       "      <td>117328</td>\n",
       "    </tr>\n",
       "    <tr>\n",
       "      <th>OffersScreenAppear</th>\n",
       "      <td>46333</td>\n",
       "    </tr>\n",
       "    <tr>\n",
       "      <th>CartScreenAppear</th>\n",
       "      <td>42303</td>\n",
       "    </tr>\n",
       "    <tr>\n",
       "      <th>PaymentScreenSuccessful</th>\n",
       "      <td>33918</td>\n",
       "    </tr>\n",
       "    <tr>\n",
       "      <th>Tutorial</th>\n",
       "      <td>1005</td>\n",
       "    </tr>\n",
       "  </tbody>\n",
       "</table>\n",
       "</div>"
      ],
      "text/plain": [
       "                             id\n",
       "event                          \n",
       "MainScreenAppear         117328\n",
       "OffersScreenAppear        46333\n",
       "CartScreenAppear          42303\n",
       "PaymentScreenSuccessful   33918\n",
       "Tutorial                   1005"
      ]
     },
     "execution_count": 736,
     "metadata": {},
     "output_type": "execute_result"
    }
   ],
   "source": [
    "data_filtered.pivot_table(index='event',values='id', \n",
    "                          aggfunc='count').sort_values('id', ascending=False)"
   ]
  },
  {
   "attachments": {},
   "cell_type": "markdown",
   "metadata": {},
   "source": [
    "Terdapat 5 peristiwa dan masing masing pewristiwa telah dihitung jumlah kemunculannya."
   ]
  },
  {
   "attachments": {},
   "cell_type": "markdown",
   "metadata": {},
   "source": [
    "**Jumlah pengguna di setiap peristiwa**"
   ]
  },
  {
   "attachments": {},
   "cell_type": "markdown",
   "metadata": {},
   "source": [
    "Menghitung jumlah pengguna di masing-masing peristiwa dan proporsi datanya:"
   ]
  },
  {
   "cell_type": "code",
   "execution_count": 737,
   "metadata": {},
   "outputs": [
    {
     "data": {
      "text/html": [
       "<div>\n",
       "<style scoped>\n",
       "    .dataframe tbody tr th:only-of-type {\n",
       "        vertical-align: middle;\n",
       "    }\n",
       "\n",
       "    .dataframe tbody tr th {\n",
       "        vertical-align: top;\n",
       "    }\n",
       "\n",
       "    .dataframe thead th {\n",
       "        text-align: right;\n",
       "    }\n",
       "</style>\n",
       "<table border=\"1\" class=\"dataframe\">\n",
       "  <thead>\n",
       "    <tr style=\"text-align: right;\">\n",
       "      <th></th>\n",
       "      <th>id</th>\n",
       "    </tr>\n",
       "    <tr>\n",
       "      <th>event</th>\n",
       "      <th></th>\n",
       "    </tr>\n",
       "  </thead>\n",
       "  <tbody>\n",
       "    <tr>\n",
       "      <th>MainScreenAppear</th>\n",
       "      <td>7419</td>\n",
       "    </tr>\n",
       "    <tr>\n",
       "      <th>OffersScreenAppear</th>\n",
       "      <td>4593</td>\n",
       "    </tr>\n",
       "    <tr>\n",
       "      <th>CartScreenAppear</th>\n",
       "      <td>3734</td>\n",
       "    </tr>\n",
       "    <tr>\n",
       "      <th>PaymentScreenSuccessful</th>\n",
       "      <td>3539</td>\n",
       "    </tr>\n",
       "    <tr>\n",
       "      <th>Tutorial</th>\n",
       "      <td>840</td>\n",
       "    </tr>\n",
       "  </tbody>\n",
       "</table>\n",
       "</div>"
      ],
      "text/plain": [
       "                           id\n",
       "event                        \n",
       "MainScreenAppear         7419\n",
       "OffersScreenAppear       4593\n",
       "CartScreenAppear         3734\n",
       "PaymentScreenSuccessful  3539\n",
       "Tutorial                  840"
      ]
     },
     "execution_count": 737,
     "metadata": {},
     "output_type": "execute_result"
    }
   ],
   "source": [
    "id_per_event = (data_filtered\n",
    "                .pivot_table(index='event', values='id', aggfunc='nunique')\n",
    "                .sort_values('id', ascending=False))\n",
    "\n",
    "# Menampilkan datanya\n",
    "id_per_event"
   ]
  },
  {
   "cell_type": "code",
   "execution_count": 738,
   "metadata": {},
   "outputs": [
    {
     "data": {
      "text/html": [
       "<div>\n",
       "<style scoped>\n",
       "    .dataframe tbody tr th:only-of-type {\n",
       "        vertical-align: middle;\n",
       "    }\n",
       "\n",
       "    .dataframe tbody tr th {\n",
       "        vertical-align: top;\n",
       "    }\n",
       "\n",
       "    .dataframe thead th {\n",
       "        text-align: right;\n",
       "    }\n",
       "</style>\n",
       "<table border=\"1\" class=\"dataframe\">\n",
       "  <thead>\n",
       "    <tr style=\"text-align: right;\">\n",
       "      <th></th>\n",
       "      <th>id</th>\n",
       "    </tr>\n",
       "    <tr>\n",
       "      <th>event</th>\n",
       "      <th></th>\n",
       "    </tr>\n",
       "  </thead>\n",
       "  <tbody>\n",
       "    <tr>\n",
       "      <th>MainScreenAppear</th>\n",
       "      <td>98.473586</td>\n",
       "    </tr>\n",
       "    <tr>\n",
       "      <th>OffersScreenAppear</th>\n",
       "      <td>60.963632</td>\n",
       "    </tr>\n",
       "    <tr>\n",
       "      <th>CartScreenAppear</th>\n",
       "      <td>49.561986</td>\n",
       "    </tr>\n",
       "    <tr>\n",
       "      <th>PaymentScreenSuccessful</th>\n",
       "      <td>46.973719</td>\n",
       "    </tr>\n",
       "    <tr>\n",
       "      <th>Tutorial</th>\n",
       "      <td>11.149456</td>\n",
       "    </tr>\n",
       "  </tbody>\n",
       "</table>\n",
       "</div>"
      ],
      "text/plain": [
       "                                id\n",
       "event                             \n",
       "MainScreenAppear         98.473586\n",
       "OffersScreenAppear       60.963632\n",
       "CartScreenAppear         49.561986\n",
       "PaymentScreenSuccessful  46.973719\n",
       "Tutorial                 11.149456"
      ]
     },
     "execution_count": 738,
     "metadata": {},
     "output_type": "execute_result"
    }
   ],
   "source": [
    "# Menghitung proporsi pengguna\n",
    "id_per_event / data_filtered.id.nunique() * 100"
   ]
  },
  {
   "attachments": {},
   "cell_type": "markdown",
   "metadata": {},
   "source": [
    "Semua peristiwa di atas dapat diurutkan menjadi **Event Funnel** dengan urutan sebagai berikut:\n",
    "\n",
    "1. `MainScreenAppear` atau tampilan utama.\n",
    "2. `OffersScreenAppear` atau halaman penawaran.\n",
    "3. `CartScreenAppear` atau keranjang.\n",
    "4. `PaymentScreenSuccessful` atau sukses melakukan pembayaran.\n",
    "\n",
    "Sedangkan tutorial tidak akan dimasukan kedalam **Event Funnel** dikarenakan kemungkinan hanya pengguna baru yang melalui peristiwa tersebut, sehingga nilainya pun bisa dikatakan sebagai `outlier`."
   ]
  },
  {
   "attachments": {},
   "cell_type": "markdown",
   "metadata": {},
   "source": [
    "**Event Funnel**"
   ]
  },
  {
   "attachments": {},
   "cell_type": "markdown",
   "metadata": {},
   "source": [
    "Karena peristiwa `tutorial` tidak masuk ke dalam funnel, maka perlu dilakukan penghapusan peristiwa tersebut terlebih dahulu."
   ]
  },
  {
   "cell_type": "code",
   "execution_count": 739,
   "metadata": {},
   "outputs": [
    {
     "data": {
      "text/html": [
       "<div>\n",
       "<style scoped>\n",
       "    .dataframe tbody tr th:only-of-type {\n",
       "        vertical-align: middle;\n",
       "    }\n",
       "\n",
       "    .dataframe tbody tr th {\n",
       "        vertical-align: top;\n",
       "    }\n",
       "\n",
       "    .dataframe thead th {\n",
       "        text-align: right;\n",
       "    }\n",
       "</style>\n",
       "<table border=\"1\" class=\"dataframe\">\n",
       "  <thead>\n",
       "    <tr style=\"text-align: right;\">\n",
       "      <th></th>\n",
       "      <th>event</th>\n",
       "      <th>id</th>\n",
       "    </tr>\n",
       "  </thead>\n",
       "  <tbody>\n",
       "    <tr>\n",
       "      <th>0</th>\n",
       "      <td>MainScreenAppear</td>\n",
       "      <td>7419</td>\n",
       "    </tr>\n",
       "    <tr>\n",
       "      <th>1</th>\n",
       "      <td>OffersScreenAppear</td>\n",
       "      <td>4593</td>\n",
       "    </tr>\n",
       "    <tr>\n",
       "      <th>2</th>\n",
       "      <td>CartScreenAppear</td>\n",
       "      <td>3734</td>\n",
       "    </tr>\n",
       "    <tr>\n",
       "      <th>3</th>\n",
       "      <td>PaymentScreenSuccessful</td>\n",
       "      <td>3539</td>\n",
       "    </tr>\n",
       "  </tbody>\n",
       "</table>\n",
       "</div>"
      ],
      "text/plain": [
       "                     event    id\n",
       "0         MainScreenAppear  7419\n",
       "1       OffersScreenAppear  4593\n",
       "2         CartScreenAppear  3734\n",
       "3  PaymentScreenSuccessful  3539"
      ]
     },
     "execution_count": 739,
     "metadata": {},
     "output_type": "execute_result"
    }
   ],
   "source": [
    "# Membnuang tahap `tutorial`\n",
    "event_funnel = id_per_event[:-1]. reset_index()\n",
    "event_funnel"
   ]
  },
  {
   "attachments": {},
   "cell_type": "markdown",
   "metadata": {},
   "source": [
    "Setelah datanya siap, maka diagram corong bisa dibuat:"
   ]
  },
  {
   "cell_type": "code",
   "execution_count": 740,
   "metadata": {},
   "outputs": [
    {
     "data": {
      "image/svg+xml": [
       "<svg class=\"main-svg\" xmlns=\"http://www.w3.org/2000/svg\" xmlns:xlink=\"http://www.w3.org/1999/xlink\" width=\"1550\" height=\"800\" style=\"\" viewBox=\"0 0 1550 800\"><rect x=\"0\" y=\"0\" width=\"1550\" height=\"800\" style=\"fill: rgb(255, 255, 255); fill-opacity: 1;\"/><defs id=\"defs-7cd659\"><g class=\"clips\"><clipPath id=\"clip7cd659xyplot\" class=\"plotclip\"><rect width=\"1293\" height=\"620\"/></clipPath><clipPath class=\"axesclip\" id=\"clip7cd659x\"><rect x=\"177\" y=\"0\" width=\"1293\" height=\"800\"/></clipPath><clipPath class=\"axesclip\" id=\"clip7cd659y\"><rect x=\"0\" y=\"100\" width=\"1550\" height=\"620\"/></clipPath><clipPath class=\"axesclip\" id=\"clip7cd659xy\"><rect x=\"177\" y=\"100\" width=\"1293\" height=\"620\"/></clipPath></g><g class=\"gradients\"/><g class=\"patterns\"/></defs><g class=\"bglayer\"/><g class=\"layer-below\"><g class=\"imagelayer\"/><g class=\"shapelayer\"/></g><g class=\"cartesianlayer\"><g class=\"subplot xy\"><g class=\"layer-subplot\"><g class=\"shapelayer\"/><g class=\"imagelayer\"/></g><g class=\"minor-gridlayer\"><g class=\"x\"/><g class=\"y\"/></g><g class=\"gridlayer\"><g class=\"x\"/><g class=\"y\"/></g><g class=\"zerolinelayer\"/><path class=\"xlines-below\"/><path class=\"ylines-below\"/><g class=\"overlines-below\"/><g class=\"xaxislayer-below\"/><g class=\"yaxislayer-below\"/><g class=\"overaxes-below\"/><g class=\"plot\" transform=\"translate(177,100)\" clip-path=\"url(#clip7cd659xyplot)\"><g class=\"funnellayer mlayer\"><g class=\"trace bars\" style=\"opacity: 1;\"><g class=\"regions\"><g class=\"region\"><path d=\"M64.65,139.5L286.28,170.5H1006.72L1228.35,139.5Z\" style=\"stroke-width: 0; fill: rgb(31, 119, 180); fill-opacity: 0.5;\"/></g><g class=\"region\"><path d=\"M286.28,294.5L353.65,325.5H939.35L1006.72,294.5Z\" style=\"stroke-width: 0; fill: rgb(31, 119, 180); fill-opacity: 0.5;\"/></g><g class=\"region\"><path d=\"M353.65,449.5L368.95,480.5H924.05L939.35,449.5Z\" style=\"stroke-width: 0; fill: rgb(31, 119, 180); fill-opacity: 0.5;\"/></g><g class=\"region\"><path d=\"M0,0Z\" style=\"stroke-width: 0; fill: rgb(31, 119, 180); fill-opacity: 0.5;\"/></g></g><g class=\"points\"><g class=\"point\"><path d=\"M64.65,15.5V139.5H1228.35V15.5Z\" style=\"vector-effect: none; fill: rgb(31, 119, 180); fill-opacity: 1; stroke: rgb(68, 68, 68); stroke-opacity: 1; stroke-width: 0px; opacity: 1;\"/><text class=\"bartext bartext-inside\" text-anchor=\"middle\" data-notex=\"1\" x=\"0\" y=\"0\" style=\"font-family: 'Open Sans', verdana, arial, sans-serif; font-size: 12px; fill: rgb(255, 255, 255); fill-opacity: 1; white-space: pre;\" transform=\"translate(646.125,66.3984375)\"><tspan class=\"line\" dy=\"0em\" x=\"0\" y=\"0\">7419</tspan><tspan class=\"line\" dy=\"1.3em\" x=\"0\" y=\"0\">100% of initial</tspan><tspan class=\"line\" dy=\"2.6em\" x=\"0\" y=\"0\">100% of previous</tspan></text></g><g class=\"point\"><path d=\"M286.28,170.5V294.5H1006.72V170.5Z\" style=\"vector-effect: none; fill: rgb(31, 119, 180); fill-opacity: 1; stroke: rgb(68, 68, 68); stroke-opacity: 1; stroke-width: 0px; opacity: 1;\"/><text class=\"bartext bartext-inside\" text-anchor=\"middle\" data-notex=\"1\" x=\"0\" y=\"0\" style=\"font-family: 'Open Sans', verdana, arial, sans-serif; font-size: 12px; fill: rgb(255, 255, 255); fill-opacity: 1; white-space: pre;\" transform=\"translate(646.125,221.3984375)\"><tspan class=\"line\" dy=\"0em\" x=\"0\" y=\"0\">4593</tspan><tspan class=\"line\" dy=\"1.3em\" x=\"0\" y=\"0\">62% of initial</tspan><tspan class=\"line\" dy=\"2.6em\" x=\"0\" y=\"0\">62% of previous</tspan></text></g><g class=\"point\"><path d=\"M353.65,325.5V449.5H939.35V325.5Z\" style=\"vector-effect: none; fill: rgb(31, 119, 180); fill-opacity: 1; stroke: rgb(68, 68, 68); stroke-opacity: 1; stroke-width: 0px; opacity: 1;\"/><text class=\"bartext bartext-inside\" text-anchor=\"middle\" data-notex=\"1\" x=\"0\" y=\"0\" style=\"font-family: 'Open Sans', verdana, arial, sans-serif; font-size: 12px; fill: rgb(255, 255, 255); fill-opacity: 1; white-space: pre;\" transform=\"translate(646.125,376.3984375)\"><tspan class=\"line\" dy=\"0em\" x=\"0\" y=\"0\">3734</tspan><tspan class=\"line\" dy=\"1.3em\" x=\"0\" y=\"0\">50% of initial</tspan><tspan class=\"line\" dy=\"2.6em\" x=\"0\" y=\"0\">81% of previous</tspan></text></g><g class=\"point\"><path d=\"M368.95,480.5V604.5H924.05V480.5Z\" style=\"vector-effect: none; fill: rgb(31, 119, 180); fill-opacity: 1; stroke: rgb(68, 68, 68); stroke-opacity: 1; stroke-width: 0px; opacity: 1;\"/><text class=\"bartext bartext-inside\" text-anchor=\"middle\" data-notex=\"1\" x=\"0\" y=\"0\" style=\"font-family: 'Open Sans', verdana, arial, sans-serif; font-size: 12px; fill: rgb(255, 255, 255); fill-opacity: 1; white-space: pre;\" transform=\"translate(646.125,531.3984375)\"><tspan class=\"line\" dy=\"0em\" x=\"0\" y=\"0\">3539</tspan><tspan class=\"line\" dy=\"1.3em\" x=\"0\" y=\"0\">48% of initial</tspan><tspan class=\"line\" dy=\"2.6em\" x=\"0\" y=\"0\">95% of previous</tspan></text></g></g></g></g></g><g class=\"overplot\"/><path class=\"xlines-above crisp\" d=\"M0,0\" style=\"fill: none;\"/><path class=\"ylines-above crisp\" d=\"M176.5,100V720\" style=\"fill: none; stroke-width: 1px; stroke: rgb(36, 36, 36); stroke-opacity: 1;\"/><g class=\"overlines-above\"/><g class=\"xaxislayer-above\"/><g class=\"yaxislayer-above\"><path class=\"ytick ticks crisp\" d=\"M176,0h-5\" transform=\"translate(0,642.5)\" style=\"stroke: rgb(68, 68, 68); stroke-opacity: 1; stroke-width: 1px;\"/><path class=\"ytick ticks crisp\" d=\"M176,0h-5\" transform=\"translate(0,487.5)\" style=\"stroke: rgb(68, 68, 68); stroke-opacity: 1; stroke-width: 1px;\"/><path class=\"ytick ticks crisp\" d=\"M176,0h-5\" transform=\"translate(0,332.5)\" style=\"stroke: rgb(68, 68, 68); stroke-opacity: 1; stroke-width: 1px;\"/><path class=\"ytick ticks crisp\" d=\"M176,0h-5\" transform=\"translate(0,177.5)\" style=\"stroke: rgb(68, 68, 68); stroke-opacity: 1; stroke-width: 1px;\"/><g class=\"ytick\"><text text-anchor=\"end\" x=\"168.6\" y=\"4.199999999999999\" transform=\"translate(0,642.5)\" style=\"font-family: 'Open Sans', verdana, arial, sans-serif; font-size: 12px; fill: rgb(36, 36, 36); fill-opacity: 1; white-space: pre; opacity: 1;\">PaymentScreenSuccessful</text></g><g class=\"ytick\"><text text-anchor=\"end\" x=\"168.6\" y=\"4.199999999999999\" transform=\"translate(0,487.5)\" style=\"font-family: 'Open Sans', verdana, arial, sans-serif; font-size: 12px; fill: rgb(36, 36, 36); fill-opacity: 1; white-space: pre; opacity: 1;\">CartScreenAppear</text></g><g class=\"ytick\"><text text-anchor=\"end\" x=\"168.6\" y=\"4.199999999999999\" transform=\"translate(0,332.5)\" style=\"font-family: 'Open Sans', verdana, arial, sans-serif; font-size: 12px; fill: rgb(36, 36, 36); fill-opacity: 1; white-space: pre; opacity: 1;\">OffersScreenAppear</text></g><g class=\"ytick\"><text text-anchor=\"end\" x=\"168.6\" y=\"4.199999999999999\" transform=\"translate(0,177.5)\" style=\"font-family: 'Open Sans', verdana, arial, sans-serif; font-size: 12px; fill: rgb(36, 36, 36); fill-opacity: 1; white-space: pre; opacity: 1;\">MainScreenAppear</text></g></g><g class=\"overaxes-above\"/></g></g><g class=\"polarlayer\"/><g class=\"smithlayer\"/><g class=\"ternarylayer\"/><g class=\"geolayer\"/><g class=\"funnelarealayer\"/><g class=\"pielayer\"/><g class=\"iciclelayer\"/><g class=\"treemaplayer\"/><g class=\"sunburstlayer\"/><g class=\"glimages\"/><defs id=\"topdefs-7cd659\"><g class=\"clips\"/></defs><g class=\"layer-above\"><g class=\"imagelayer\"/><g class=\"shapelayer\"/></g><g class=\"infolayer\"><g class=\"g-gtitle\"/><g class=\"g-ytitle\"/></g></svg>"
      ]
     },
     "metadata": {},
     "output_type": "display_data"
    }
   ],
   "source": [
    "# Membuat diagram corong\n",
    "fig = go.Figure(go.Funnel(\n",
    "    y = event_funnel['event'],\n",
    "    x = event_funnel['id'],\n",
    "    textposition = 'inside',\n",
    "    textinfo = 'value+percent initial+percent previous'))\n",
    "fig.update_layout(template = 'simple_white')\n",
    "fig.show(width = 1550, height = 800 )"
   ]
  },
  {
   "attachments": {},
   "cell_type": "markdown",
   "metadata": {},
   "source": [
    "**Findings:**\n",
    "\n",
    "- Terdapat 5 peristiwa yang dicatat oleh log yaitu `MainScreenAppear`, `OffersScreenAppear`, `CartScreenAppear`, `PaymentScreenSuccessful`, dan `tutorial`.\n",
    "- Walaupun terdapat 5 peristiwa, namun peristiwa yang termasuk ke dalam **Event Funnel** hanyalah 4 dikarenakan `tutorial` tidak ikut termasuk kedalam funnel.\n",
    "- Setelah menganalisa dan membuat diagram corongnya ditemukan informasi sebagai beriukut:\n",
    "\n",
    "    - `MainScreenAppear` sebagai peristiwa pertama memiliki jumlah pengguna sebanyak **7419** pengguna.\n",
    "    - `OffersScreenAppear` sebagai peristiwa kedua memiliki jumlah pengguna sebanyak **4593** pengguna atau sebanyak **62%** dari tahap pertama.\n",
    "    - `CartScreenAppear` sebagai peristiwa ketiga memiliki jumlah pengguna sebanyak **3734** pengguna atau sebanyak **81%** dari tahap kedua.\n",
    "    - `PaymentScreenSuccessful` sebagai peristiwa terakhir memiliki jumlah pengguna sebanyak **3539** pengguna atau sebanyak **95%** dari tahap ketiga.\n",
    "    - Presentase pengguna yang berhasil menyelesaikan tahap awal hingga akhir adalah sebanyak **48%**.\n",
    "\n",
    "Dengan informasi tersebut, dapat disimpulkan bahwa banyak pengguna yang melakukan interaksi awal dengan aplikasi (Main Screen) namun hanya sebagian kecil dari mereka yang berhasil menyelesaikan proses pembayaran. Diperlukan analisa lebih lanjut untuk mengetahui faktor-faktor apa saja yang mempengaruhi tingkat konversi pengguna dari tahap satu hingga ke tahap akhir dan bagaimana cara meningkatkannya."
   ]
  },
  {
   "attachments": {},
   "cell_type": "markdown",
   "metadata": {},
   "source": [
    "### Mempelajari Hasil Eksperimen <a id='analysis3'></a>"
   ]
  },
  {
   "attachments": {},
   "cell_type": "markdown",
   "metadata": {},
   "source": [
    "Terakhir, adalah melakukan analisa eksperimen yang telah dilakukan dengan melakukan uji statistik terhadap masing-masing kelompok eksperimen."
   ]
  },
  {
   "attachments": {},
   "cell_type": "markdown",
   "metadata": {},
   "source": [
    "**Jumlah pengguna di setiap kelompok**"
   ]
  },
  {
   "attachments": {},
   "cell_type": "markdown",
   "metadata": {},
   "source": [
    "Sebelum melakukan uji statistik, mari cari tahu jumlah pengguna di masing-masing kelompok eksperimen:"
   ]
  },
  {
   "cell_type": "code",
   "execution_count": 741,
   "metadata": {},
   "outputs": [
    {
     "data": {
      "text/html": [
       "<div>\n",
       "<style scoped>\n",
       "    .dataframe tbody tr th:only-of-type {\n",
       "        vertical-align: middle;\n",
       "    }\n",
       "\n",
       "    .dataframe tbody tr th {\n",
       "        vertical-align: top;\n",
       "    }\n",
       "\n",
       "    .dataframe thead th {\n",
       "        text-align: right;\n",
       "    }\n",
       "</style>\n",
       "<table border=\"1\" class=\"dataframe\">\n",
       "  <thead>\n",
       "    <tr style=\"text-align: right;\">\n",
       "      <th></th>\n",
       "      <th>id</th>\n",
       "    </tr>\n",
       "    <tr>\n",
       "      <th>exp_id</th>\n",
       "      <th></th>\n",
       "    </tr>\n",
       "  </thead>\n",
       "  <tbody>\n",
       "    <tr>\n",
       "      <th>246</th>\n",
       "      <td>2484</td>\n",
       "    </tr>\n",
       "    <tr>\n",
       "      <th>247</th>\n",
       "      <td>2513</td>\n",
       "    </tr>\n",
       "    <tr>\n",
       "      <th>248</th>\n",
       "      <td>2537</td>\n",
       "    </tr>\n",
       "  </tbody>\n",
       "</table>\n",
       "</div>"
      ],
      "text/plain": [
       "          id\n",
       "exp_id      \n",
       "246     2484\n",
       "247     2513\n",
       "248     2537"
      ]
     },
     "execution_count": 741,
     "metadata": {},
     "output_type": "execute_result"
    }
   ],
   "source": [
    "# Menghitung jumlah pengguna di setiap kelompok\n",
    "id_per_group = data_filtered.pivot_table(index='exp_id',\n",
    "                                         values='id',\n",
    "                                         aggfunc='nunique')\n",
    "\n",
    "# Menampilkan hasilnya\n",
    "id_per_group"
   ]
  },
  {
   "attachments": {},
   "cell_type": "markdown",
   "metadata": {},
   "source": [
    "Kelompok uji dengan id `246` memiliki **2484** pengunjung, sedangkan kelompok uji dengan id `247` memiliki **2513** pengunjung dan id `248` memiliki pengunjung sebanyak **2537**."
   ]
  },
  {
   "attachments": {},
   "cell_type": "markdown",
   "metadata": {},
   "source": [
    "**Melakukan A/A Testing**"
   ]
  },
  {
   "attachments": {},
   "cell_type": "markdown",
   "metadata": {},
   "source": [
    "Melakukan uji statistik terhadap kedua kelompok uji antara sampel 246 dan 247, dan mencari tahu apakah terdapat perbedaan yang signifikan secara statistik. Namun sebelumnya perlu untuk mencari tahu jumlah pengguna dari setiap kejadian di masing-masing kelompok uji."
   ]
  },
  {
   "cell_type": "code",
   "execution_count": 742,
   "metadata": {},
   "outputs": [
    {
     "data": {
      "text/html": [
       "<div>\n",
       "<style scoped>\n",
       "    .dataframe tbody tr th:only-of-type {\n",
       "        vertical-align: middle;\n",
       "    }\n",
       "\n",
       "    .dataframe tbody tr th {\n",
       "        vertical-align: top;\n",
       "    }\n",
       "\n",
       "    .dataframe thead th {\n",
       "        text-align: right;\n",
       "    }\n",
       "</style>\n",
       "<table border=\"1\" class=\"dataframe\">\n",
       "  <thead>\n",
       "    <tr style=\"text-align: right;\">\n",
       "      <th>exp_id</th>\n",
       "      <th>246</th>\n",
       "      <th>247</th>\n",
       "      <th>248</th>\n",
       "    </tr>\n",
       "    <tr>\n",
       "      <th>event</th>\n",
       "      <th></th>\n",
       "      <th></th>\n",
       "      <th></th>\n",
       "    </tr>\n",
       "  </thead>\n",
       "  <tbody>\n",
       "    <tr>\n",
       "      <th>MainScreenAppear</th>\n",
       "      <td>2450</td>\n",
       "      <td>2476</td>\n",
       "      <td>2493</td>\n",
       "    </tr>\n",
       "    <tr>\n",
       "      <th>OffersScreenAppear</th>\n",
       "      <td>1542</td>\n",
       "      <td>1520</td>\n",
       "      <td>1531</td>\n",
       "    </tr>\n",
       "    <tr>\n",
       "      <th>CartScreenAppear</th>\n",
       "      <td>1266</td>\n",
       "      <td>1238</td>\n",
       "      <td>1230</td>\n",
       "    </tr>\n",
       "    <tr>\n",
       "      <th>PaymentScreenSuccessful</th>\n",
       "      <td>1200</td>\n",
       "      <td>1158</td>\n",
       "      <td>1181</td>\n",
       "    </tr>\n",
       "    <tr>\n",
       "      <th>Tutorial</th>\n",
       "      <td>278</td>\n",
       "      <td>283</td>\n",
       "      <td>279</td>\n",
       "    </tr>\n",
       "  </tbody>\n",
       "</table>\n",
       "</div>"
      ],
      "text/plain": [
       "exp_id                    246   247   248\n",
       "event                                    \n",
       "MainScreenAppear         2450  2476  2493\n",
       "OffersScreenAppear       1542  1520  1531\n",
       "CartScreenAppear         1266  1238  1230\n",
       "PaymentScreenSuccessful  1200  1158  1181\n",
       "Tutorial                  278   283   279"
      ]
     },
     "execution_count": 742,
     "metadata": {},
     "output_type": "execute_result"
    }
   ],
   "source": [
    "# Menghitung jumlah pengguna dari setiap kejadian di masing-masing kelompok uji\n",
    "id_event_group = data_filtered.pivot_table(index='event', \n",
    "                                           values='id',\n",
    "                                           columns='exp_id', \n",
    "                                           aggfunc='nunique').sort_values(by=246, ascending=False)\n",
    "\n",
    "# Menampilkan hasilnya\n",
    "id_event_group"
   ]
  },
  {
   "attachments": {},
   "cell_type": "markdown",
   "metadata": {},
   "source": [
    "Jumlah pengguna setiap kejadian di masing-masing kelompok sudah didapatkan, dengan ini pengujian statistik dapat dilakukan. Seperti yang telah disinggung sebelumnya, sample `246` dan `247` merupakan kelompok eksperimen yang diperlihatkan dengan versi font lama sehingga dapat dikatakan uji statistik berikut merupakan **A/A test**. Uji statistik kali ini akan menggunakan **Z-test** untuk menguji hipotesis mengenai kesetaraan proporsi populasi dengan menggunalan alpha level 0.01."
   ]
  },
  {
   "cell_type": "code",
   "execution_count": 743,
   "metadata": {},
   "outputs": [],
   "source": [
    "# Membuat Z-test\n",
    "def hypothesis_check(successes1, successes2, trials1, trials2, alpha=.01):\n",
    "\n",
    "    # proporsi keberhasilan di kelompok pertama:\n",
    "    p1 = successes1 / trials1\n",
    "\n",
    "    # proporsi keberhasilan di kelompok kedua:\n",
    "    p2 = successes2 / trials2\n",
    "\n",
    "    # proporsi keberhasilan dalam dataset gabungan:\n",
    "    p_combined = (successes1 + successes2) / (trials1 + trials2)\n",
    "\n",
    "    # perbedaan antara proporsi dataset\n",
    "    difference = p1 - p2 \n",
    "\n",
    "    # menghitung statistik dalam standar deviasi dari distribusi normal baku\n",
    "    z_value = difference / mth.sqrt(p_combined * (1 - p_combined) * (1/trials1 + 1/trials2))\n",
    "\n",
    "    # mengatur distribusi normal baku (rata-rata 0, standar deviasi 1)\n",
    "    distr = st.norm(0, 1)  \n",
    "\n",
    "    p_value = (1 - distr.cdf(abs(z_value))) * 2\n",
    "\n",
    "    print('p-value: ', p_value)\n",
    "\n",
    "    if (p_value < alpha):\n",
    "        print(\"Menolak hipotesis nol: terdapat perbedaan yang signifikan di antara proporsinya\")\n",
    "    else:\n",
    "        print(\"Gagal untuk menolak hipotesis nol: tidak ada alasan untuk mempertimbangkan bahwa proporsinya berbeda\")"
   ]
  },
  {
   "cell_type": "code",
   "execution_count": 744,
   "metadata": {},
   "outputs": [],
   "source": [
    "# Membuat fungsi untuk menampilkan hasil test sekaligus\n",
    "def event_hypothesis_check(id_event_group, id_per_group, event, exp1, exp2):\n",
    "\n",
    "    frac1 = id_event_group.loc[event, exp1] / id_per_group.loc[exp1]\n",
    "    frac2 = id_event_group.loc[event, exp2] / id_per_group.loc[exp2]\n",
    "\n",
    "    print(f'event {event} group {exp1}')\n",
    "    print(f'event {event} group {exp2}')\n",
    "\n",
    "    hypothesis_check(successes1 = id_event_group.loc[event, exp1], \n",
    "                 successes2 = id_event_group.loc[event, exp2], \n",
    "                 trials1 = id_per_group.loc[exp1], \n",
    "                 trials2 = id_per_group.loc[exp2])"
   ]
  },
  {
   "cell_type": "code",
   "execution_count": 745,
   "metadata": {},
   "outputs": [
    {
     "name": "stdout",
     "output_type": "stream",
     "text": [
      "event MainScreenAppear group 246\n",
      "event MainScreenAppear group 247\n",
      "p-value:  [0.75705972]\n",
      "Gagal untuk menolak hipotesis nol: tidak ada alasan untuk mempertimbangkan bahwa proporsinya berbeda\n",
      "__________________________________________________________________\n",
      "event OffersScreenAppear group 246\n",
      "event OffersScreenAppear group 247\n",
      "p-value:  [0.24809546]\n",
      "Gagal untuk menolak hipotesis nol: tidak ada alasan untuk mempertimbangkan bahwa proporsinya berbeda\n",
      "__________________________________________________________________\n",
      "event CartScreenAppear group 246\n",
      "event CartScreenAppear group 247\n",
      "p-value:  [0.22883372]\n",
      "Gagal untuk menolak hipotesis nol: tidak ada alasan untuk mempertimbangkan bahwa proporsinya berbeda\n",
      "__________________________________________________________________\n",
      "event PaymentScreenSuccessful group 246\n",
      "event PaymentScreenSuccessful group 247\n",
      "p-value:  [0.11456679]\n",
      "Gagal untuk menolak hipotesis nol: tidak ada alasan untuk mempertimbangkan bahwa proporsinya berbeda\n",
      "__________________________________________________________________\n",
      "event Tutorial group 246\n",
      "event Tutorial group 247\n",
      "p-value:  [0.93769962]\n",
      "Gagal untuk menolak hipotesis nol: tidak ada alasan untuk mempertimbangkan bahwa proporsinya berbeda\n",
      "__________________________________________________________________\n"
     ]
    }
   ],
   "source": [
    "# Melakukan Z-test\n",
    "for event in id_event_group.index:\n",
    "    event_hypothesis_check(id_event_group, id_per_group, event, 246, 247)\n",
    "    print('__________________________________________________________________')"
   ]
  },
  {
   "attachments": {},
   "cell_type": "markdown",
   "metadata": {},
   "source": [
    "Hasil A/A testing tersebut menunjukkan bahwa tidak ada perbedaan yang signifikan antara dua kelompok kontrol (group 246 dan 247) dalam hal proporsi pengguna yang mengalami event `MainScreenAppear`, `OffersScreenAppear`, `CartScreenAppear`, `PaymentScreenSuccessful`, dan `Tutorial`. Hal ini dilihat dari nilai p-value yang lebih besar dari 0,01 (tingkat signifikansi yang dipilih).\n",
    "\n",
    "Dengan kata lain, kelompok kontrol berhasil dipertahankan sebagai kelompok yang seharusnya sama dan tidak ada faktor lain yang mempengaruhi hasil pengamatan. Oleh karena itu, eksperimen selanjutnya dapat dilakukan pada kelompok uji tanpa khawatir pengaruh dari faktor lain yang tidak diinginkan."
   ]
  },
  {
   "attachments": {},
   "cell_type": "markdown",
   "metadata": {},
   "source": [
    "**Melakukan A/B Testing**"
   ]
  },
  {
   "attachments": {},
   "cell_type": "markdown",
   "metadata": {},
   "source": [
    "Hasil A/A testing menunjukan bahwa tidak ada perbedaan yang signifikan antara dua kelompok kontrol, sehingga eksperimen dapat dilanjutkan dengan A/B testing.\n",
    "\n",
    "Eksperimen akan dilakukan sebanyak tiga kali, yaitu:\n",
    "\n",
    "1. Uji statistik anatara kelompok kontrol 246 dengan 248.\n",
    "2. Uji statistik anatara kelompok kontrol 247 dengan 248.\n",
    "3. Uji statistik anatara gabungan kelompok kontrol 246 dan 247 dengan 248."
   ]
  },
  {
   "cell_type": "code",
   "execution_count": 746,
   "metadata": {},
   "outputs": [
    {
     "name": "stdout",
     "output_type": "stream",
     "text": [
      "event MainScreenAppear group 246\n",
      "event MainScreenAppear group 248\n",
      "p-value:  [0.29497219]\n",
      "Gagal untuk menolak hipotesis nol: tidak ada alasan untuk mempertimbangkan bahwa proporsinya berbeda\n",
      "__________________________________________________________________\n",
      "event OffersScreenAppear group 246\n",
      "event OffersScreenAppear group 248\n",
      "p-value:  [0.20836205]\n",
      "Gagal untuk menolak hipotesis nol: tidak ada alasan untuk mempertimbangkan bahwa proporsinya berbeda\n",
      "__________________________________________________________________\n",
      "event CartScreenAppear group 246\n",
      "event CartScreenAppear group 248\n",
      "p-value:  [0.07842923]\n",
      "Gagal untuk menolak hipotesis nol: tidak ada alasan untuk mempertimbangkan bahwa proporsinya berbeda\n",
      "__________________________________________________________________\n",
      "event PaymentScreenSuccessful group 246\n",
      "event PaymentScreenSuccessful group 248\n",
      "p-value:  [0.21225533]\n",
      "Gagal untuk menolak hipotesis nol: tidak ada alasan untuk mempertimbangkan bahwa proporsinya berbeda\n",
      "__________________________________________________________________\n",
      "event Tutorial group 246\n",
      "event Tutorial group 248\n",
      "p-value:  [0.8264294]\n",
      "Gagal untuk menolak hipotesis nol: tidak ada alasan untuk mempertimbangkan bahwa proporsinya berbeda\n",
      "__________________________________________________________________\n"
     ]
    }
   ],
   "source": [
    "# Uji statistik anatara kelompok kontrol 246 dengan 248\n",
    "for event in id_event_group.index:\n",
    "    event_hypothesis_check(id_event_group, id_per_group, event, 246, 248)\n",
    "    print('__________________________________________________________________')"
   ]
  },
  {
   "attachments": {},
   "cell_type": "markdown",
   "metadata": {},
   "source": [
    "Berdasarkan hasil A/B testing menggunakan Z-test antara group 246 dan group 248, tidak ditemukan perbedaan yang signifikan dalam proporsi kejadian di antara kelompok yang berbeda. Hal ini dapat dilihat dari nilai p-value yang besar pada setiap kejadian, yang menunjukkan bahwa tidak ada alasan untuk mempertimbangkan bahwa proporsi antara kelompok yang berbeda berbeda secara signifikan. Oleh karena itu, tidak ada kesimpulan yang dapat diambil bahwa satu font memberikan hasil yang lebih baik daripada yang lain."
   ]
  },
  {
   "cell_type": "code",
   "execution_count": 747,
   "metadata": {},
   "outputs": [
    {
     "name": "stdout",
     "output_type": "stream",
     "text": [
      "event MainScreenAppear group 247\n",
      "event MainScreenAppear group 248\n",
      "p-value:  [0.45870536]\n",
      "Gagal untuk menolak hipotesis nol: tidak ada alasan untuk mempertimbangkan bahwa proporsinya berbeda\n",
      "__________________________________________________________________\n",
      "event OffersScreenAppear group 247\n",
      "event OffersScreenAppear group 248\n",
      "p-value:  [0.91978178]\n",
      "Gagal untuk menolak hipotesis nol: tidak ada alasan untuk mempertimbangkan bahwa proporsinya berbeda\n",
      "__________________________________________________________________\n",
      "event CartScreenAppear group 247\n",
      "event CartScreenAppear group 248\n",
      "p-value:  [0.57861979]\n",
      "Gagal untuk menolak hipotesis nol: tidak ada alasan untuk mempertimbangkan bahwa proporsinya berbeda\n",
      "__________________________________________________________________\n",
      "event PaymentScreenSuccessful group 247\n",
      "event PaymentScreenSuccessful group 248\n",
      "p-value:  [0.73734151]\n",
      "Gagal untuk menolak hipotesis nol: tidak ada alasan untuk mempertimbangkan bahwa proporsinya berbeda\n",
      "__________________________________________________________________\n",
      "event Tutorial group 247\n",
      "event Tutorial group 248\n",
      "p-value:  [0.76532392]\n",
      "Gagal untuk menolak hipotesis nol: tidak ada alasan untuk mempertimbangkan bahwa proporsinya berbeda\n",
      "__________________________________________________________________\n"
     ]
    }
   ],
   "source": [
    "# Uji statistik anatara kelompok kontrol 247 dengan 248\n",
    "for event in id_event_group.index:\n",
    "    event_hypothesis_check(id_event_group, id_per_group, event, 247, 248)\n",
    "    print('__________________________________________________________________')"
   ]
  },
  {
   "attachments": {},
   "cell_type": "markdown",
   "metadata": {},
   "source": [
    "Berdasarkan hasil A/B testing menggunakan Z-test antara group 247 dan group 248, tidak ada perbedaan yang signifikan antara penggunaan dua jenis font untuk setiap event yang diamati, dengan semua p-value di atas alpha level 0.01. Oleh karena itu, hipotesis nol diterima, dan dapat disimpulkan bahwa tidak ada bukti signifikan untuk mendukung penggunaan salah satu jenis font untuk meningkatkan konversi pada setiap event yang diamati."
   ]
  },
  {
   "attachments": {},
   "cell_type": "markdown",
   "metadata": {},
   "source": [
    "Sebelum melakukan A/B testing yang ketiga, perlu dilakukan penggabungan dataset antara kelompok kontrol 246 dan 247:"
   ]
  },
  {
   "cell_type": "code",
   "execution_count": 748,
   "metadata": {},
   "outputs": [],
   "source": [
    "# Menggabungkan group 246 dan 247\n",
    "combined_group = id_event_group.copy()\n",
    "combined_group.loc[:,247] += combined_group.loc[:,246]\n",
    "combined_group.drop(columns=246, inplace=True)"
   ]
  },
  {
   "cell_type": "code",
   "execution_count": 749,
   "metadata": {},
   "outputs": [
    {
     "data": {
      "text/html": [
       "<div>\n",
       "<style scoped>\n",
       "    .dataframe tbody tr th:only-of-type {\n",
       "        vertical-align: middle;\n",
       "    }\n",
       "\n",
       "    .dataframe tbody tr th {\n",
       "        vertical-align: top;\n",
       "    }\n",
       "\n",
       "    .dataframe thead th {\n",
       "        text-align: right;\n",
       "    }\n",
       "</style>\n",
       "<table border=\"1\" class=\"dataframe\">\n",
       "  <thead>\n",
       "    <tr style=\"text-align: right;\">\n",
       "      <th>exp_id</th>\n",
       "      <th>247</th>\n",
       "      <th>248</th>\n",
       "    </tr>\n",
       "    <tr>\n",
       "      <th>event</th>\n",
       "      <th></th>\n",
       "      <th></th>\n",
       "    </tr>\n",
       "  </thead>\n",
       "  <tbody>\n",
       "    <tr>\n",
       "      <th>MainScreenAppear</th>\n",
       "      <td>4926</td>\n",
       "      <td>2493</td>\n",
       "    </tr>\n",
       "    <tr>\n",
       "      <th>OffersScreenAppear</th>\n",
       "      <td>3062</td>\n",
       "      <td>1531</td>\n",
       "    </tr>\n",
       "    <tr>\n",
       "      <th>CartScreenAppear</th>\n",
       "      <td>2504</td>\n",
       "      <td>1230</td>\n",
       "    </tr>\n",
       "    <tr>\n",
       "      <th>PaymentScreenSuccessful</th>\n",
       "      <td>2358</td>\n",
       "      <td>1181</td>\n",
       "    </tr>\n",
       "    <tr>\n",
       "      <th>Tutorial</th>\n",
       "      <td>561</td>\n",
       "      <td>279</td>\n",
       "    </tr>\n",
       "  </tbody>\n",
       "</table>\n",
       "</div>"
      ],
      "text/plain": [
       "exp_id                    247   248\n",
       "event                              \n",
       "MainScreenAppear         4926  2493\n",
       "OffersScreenAppear       3062  1531\n",
       "CartScreenAppear         2504  1230\n",
       "PaymentScreenSuccessful  2358  1181\n",
       "Tutorial                  561   279"
      ]
     },
     "execution_count": 749,
     "metadata": {},
     "output_type": "execute_result"
    }
   ],
   "source": [
    "combined_group"
   ]
  },
  {
   "cell_type": "code",
   "execution_count": 750,
   "metadata": {},
   "outputs": [],
   "source": [
    "# Menggabungkan pengguna 246 dan 247\n",
    "combined_id = id_per_group.copy()\n",
    "combined_id.loc[247] += combined_id.loc[246]\n",
    "combined_id.drop(246, inplace=True)"
   ]
  },
  {
   "cell_type": "code",
   "execution_count": 751,
   "metadata": {},
   "outputs": [
    {
     "data": {
      "text/html": [
       "<div>\n",
       "<style scoped>\n",
       "    .dataframe tbody tr th:only-of-type {\n",
       "        vertical-align: middle;\n",
       "    }\n",
       "\n",
       "    .dataframe tbody tr th {\n",
       "        vertical-align: top;\n",
       "    }\n",
       "\n",
       "    .dataframe thead th {\n",
       "        text-align: right;\n",
       "    }\n",
       "</style>\n",
       "<table border=\"1\" class=\"dataframe\">\n",
       "  <thead>\n",
       "    <tr style=\"text-align: right;\">\n",
       "      <th></th>\n",
       "      <th>id</th>\n",
       "    </tr>\n",
       "    <tr>\n",
       "      <th>exp_id</th>\n",
       "      <th></th>\n",
       "    </tr>\n",
       "  </thead>\n",
       "  <tbody>\n",
       "    <tr>\n",
       "      <th>247</th>\n",
       "      <td>4997</td>\n",
       "    </tr>\n",
       "    <tr>\n",
       "      <th>248</th>\n",
       "      <td>2537</td>\n",
       "    </tr>\n",
       "  </tbody>\n",
       "</table>\n",
       "</div>"
      ],
      "text/plain": [
       "          id\n",
       "exp_id      \n",
       "247     4997\n",
       "248     2537"
      ]
     },
     "execution_count": 751,
     "metadata": {},
     "output_type": "execute_result"
    }
   ],
   "source": [
    "combined_id"
   ]
  },
  {
   "attachments": {},
   "cell_type": "markdown",
   "metadata": {},
   "source": [
    "Kedua kelompok kontrol telah digabungkan, A/B testing bisa dilanjutkan:"
   ]
  },
  {
   "cell_type": "code",
   "execution_count": 752,
   "metadata": {},
   "outputs": [
    {
     "name": "stdout",
     "output_type": "stream",
     "text": [
      "event MainScreenAppear group 247\n",
      "event MainScreenAppear group 248\n",
      "p-value:  [0.29424527]\n",
      "Gagal untuk menolak hipotesis nol: tidak ada alasan untuk mempertimbangkan bahwa proporsinya berbeda\n",
      "__________________________________________________________________\n",
      "event OffersScreenAppear group 247\n",
      "event OffersScreenAppear group 248\n",
      "p-value:  [0.4342555]\n",
      "Gagal untuk menolak hipotesis nol: tidak ada alasan untuk mempertimbangkan bahwa proporsinya berbeda\n",
      "__________________________________________________________________\n",
      "event CartScreenAppear group 247\n",
      "event CartScreenAppear group 248\n",
      "p-value:  [0.18175875]\n",
      "Gagal untuk menolak hipotesis nol: tidak ada alasan untuk mempertimbangkan bahwa proporsinya berbeda\n",
      "__________________________________________________________________\n",
      "event PaymentScreenSuccessful group 247\n",
      "event PaymentScreenSuccessful group 248\n",
      "p-value:  [0.60042943]\n",
      "Gagal untuk menolak hipotesis nol: tidak ada alasan untuk mempertimbangkan bahwa proporsinya berbeda\n",
      "__________________________________________________________________\n",
      "event Tutorial group 247\n",
      "event Tutorial group 248\n",
      "p-value:  [0.76486247]\n",
      "Gagal untuk menolak hipotesis nol: tidak ada alasan untuk mempertimbangkan bahwa proporsinya berbeda\n",
      "__________________________________________________________________\n"
     ]
    }
   ],
   "source": [
    "# Uji statistik anatara gabungan kelompok kontrol 246 dan 247 dengan 248\n",
    "for event in id_event_group.index:\n",
    "    event_hypothesis_check(combined_group, combined_id, event, 247, 248)\n",
    "    print('__________________________________________________________________')"
   ]
  },
  {
   "attachments": {},
   "cell_type": "markdown",
   "metadata": {},
   "source": [
    "Berdasarkan hasil A/B testing yang dilakukan dengan menggabungkan group 246 dan 247 serta membandingkannya dengan group 248 untuk mencari tahu font yang akan memberikan hasil terbaik, diperoleh informasi bahwa tidak terdapat perbedaan yang signifikan antara kedua group dalam hal proporsi kejadian pada setiap event yang diuji (`MainScreenAppear`, `OffersScreenAppear`, `CartScreenAppear`, `PaymentScreenSuccessful`, dan `Tutorial`). Hal ini dapat dilihat dari p-value yang diperoleh yang semuanya lebih besar dari 0.01, yang berarti gagal untuk menolak hipotesis nol bahwa tidak ada perbedaan yang signifikan antara proporsi kejadian di kedua group. Oleh karena itu, tidak ada bukti yang cukup untuk menyatakan bahwa salah satu font memberikan hasil yang lebih baik daripada yang lain, sehingga keputusan pemilihan font sebaiknya tidak didasarkan pada hasil A/B testing ini."
   ]
  },
  {
   "attachments": {},
   "cell_type": "markdown",
   "metadata": {},
   "source": [
    "**Findings:**\n",
    "\n",
    "Dari hasil uji statistik di atas dengan alpha level 0.01, dapat disimpulkan bahwa penggunaan font baru pada group 248 tidak memberikan perbedaan yang signifikan dalam hal interaksi pengguna dengan aplikasi dibandingkan dengan penggunaan font lama pada group 246 dan 247. Hal ini didasarkan pada hasil uji hipotesis yang menunjukkan tidak adanya perbedaan yang signifikan antara group 246 dan 247 dengan group 248 pada semua event yang diamati.\n",
    "\n",
    "Namun, meskipun tidak ada perbedaan yang signifikan, rekomendasi yang bisa diberikan adalah tetap melakukan pengujian lebih lanjut jika memungkinkan, terutama dalam menguji faktor lain yang mungkin mempengaruhi interaksi pengguna dengan aplikasi, seperti tata letak atau warna. Selain itu, juga bisa dilakukan survei atau wawancara dengan pengguna untuk memperoleh insight lebih lanjut mengenai preferensi dan kebutuhan pengguna terkait tampilan aplikasi."
   ]
  },
  {
   "attachments": {},
   "cell_type": "markdown",
   "metadata": {},
   "source": [
    "## Kesimpulan Umum <a id='end'></a>"
   ]
  },
  {
   "attachments": {},
   "cell_type": "markdown",
   "metadata": {},
   "source": [
    "Dataset yang digunakan dalam proyek ini adalah data log aktivitas pengguna sebuah aplikasi dari sebuah startup yang menjual produk makanan. Dataset ini mencatat aktivitas pengguna pada periode waktu antara 25 Juli 2019 hingga 7 Agustus 2019. Dataset ini terdiri dari 5 jenis peristiwa atau event yang dicatat dan terbagi menjadi tiga kelompok uji yang masing-masing memiliki jumlah pengguna yang berbeda dan menggunakan font yang berbeda pula.\n",
    "\n",
    "Kelompok uji pertama (group 246) dan kedua (group 247) menggunakan font yang sama, yaitu font lama, sedangkan kelompok uji ketiga (group 248) menggunakan font baru. Dataset yang digunakan dalam proyek telah difilter untuk mengecualikan data pada periode waktu sebelum Agustus, sehingga hanya data pada periode Agustus yang digunakan..\n",
    "\n",
    "Setelah melakukan analisa, dapat diambil kesimpulan sebagai berikut:\n",
    "\n",
    "1. Dataset yang digunakan dalam proyek ini terdiri dari 243713 peristiwa dari 7551 pengguna dengan rata-rata 32 peristiwa per-pengguna. Data yang digunakan hanya data setelah bulan Agustus dan terdiri dari tiga kelompok uji, yaitu kelompok uji 248 (font baru) sebanyak 84563, kelompok uji 247 (font lama) sebanyak 77022, dan kelompok uji 246 (font lama) sebanyak 79302.\n",
    "2. Dari analisis event funnel, didapatkan informasi bahwa dari 7419 pengguna yang mengunjungi `MainScreen`, sebanyak 4593 pengguna (62%) melanjutkan ke `OffersScreen`, 3734 pengguna (81%) dari `OffersScreen` lanjut ke `CartScreen`, dan 3539 pengguna (95%) dari `CartScreen` berhasil menyelesaikan pembayaran di `PaymentScreenSuccessful`. Presentase pengguna yang berhasil menyelesaikan seluruh funnel adalah sebanyak 48%.\n",
    "3. Berdasarkan hasil uji A/A, tidak ditemukan perbedaan yang signifikan antara kelompok uji 246 dan 247 dalam hal konversi antar event funnel dengan nilai p-value yang lebih dari alpha level 0.01.\n",
    "4. Berdasarkan hasil uji A/B, tidak ditemukan perbedaan yang signifikan antara kelompok uji 248 dan 247 dalam hal konversi antar event funnel dengan nilai p-value yang lebih dari alpha level 0.01.\n",
    "5. Berdasarkan temuan kedua, ditemukan bahwa font lama dan baru tidak memiliki pengaruh yang signifikan terhadap konversi funnel.\n",
    "6. Berdasarkan kesimpulan 3, 4, dan 5, dapat disimpulkan bahwa penggantian font tidak memberikan dampak yang signifikan terhadap konversi funnel.\n",
    "\n",
    "Berdasarkan kesimpulan ini, dapat diketahui bahwa penggantian font pada aplikasi tidak mempengaruhi tingkat konversi secara signifikan. Meskipun terdapat perbedaan yang signifikan pada tahap-tahap awal funnel, namun hal tersebut tidak berdampak pada tingkat konversi akhir. Selain itu, hasil uji A/A testing menunjukkan bahwa pengukuran pada kedua kelompok kontrol yang sama menunjukkan hasil yang konsisten, sehingga dapat dianggap bahwa tidak terdapat perbedaan yang signifikan antara kedua kelompok kontrol."
   ]
  },
  {
   "attachments": {},
   "cell_type": "markdown",
   "metadata": {},
   "source": [
    "[Kembali ke Daftar Isi](#back)"
   ]
  }
 ],
 "metadata": {
  "kernelspec": {
   "display_name": "Python 3",
   "language": "python",
   "name": "python3"
  },
  "language_info": {
   "codemirror_mode": {
    "name": "ipython",
    "version": 3
   },
   "file_extension": ".py",
   "mimetype": "text/x-python",
   "name": "python",
   "nbconvert_exporter": "python",
   "pygments_lexer": "ipython3",
   "version": "3.10.10"
  },
  "orig_nbformat": 4
 },
 "nbformat": 4,
 "nbformat_minor": 2
}
